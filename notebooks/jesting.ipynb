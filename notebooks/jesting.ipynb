{
 "cells": [
  {
   "metadata": {
    "ExecuteTime": {
     "end_time": "2024-08-19T09:04:59.190694Z",
     "start_time": "2024-08-19T09:04:58.562740Z"
    }
   },
   "cell_type": "code",
   "source": [
    "from pathlib import Path\n",
    "import io, time\n",
    "from omnibelt.jester import view, select, batchify, AutoFileJester, Jester\n",
    "import pandas as pd"
   ],
   "id": "a9ff8ae770f4ff9b",
   "outputs": [],
   "execution_count": 1
  },
  {
   "metadata": {
    "ExecuteTime": {
     "end_time": "2024-08-19T09:04:59.196498Z",
     "start_time": "2024-08-19T09:04:59.192074Z"
    }
   },
   "cell_type": "code",
   "source": [
    "datadir = Path(r'C:/Users/anwan/OneDrive/Khan/research/alphageometry/data/old')\n",
    "# paths = list(datadir.glob('*.csv'))\n",
    "# len(paths)"
   ],
   "id": "fe8d3f88dc5a65d2",
   "outputs": [],
   "execution_count": 2
  },
  {
   "metadata": {
    "ExecuteTime": {
     "end_time": "2024-08-19T09:06:11.769915Z",
     "start_time": "2024-08-19T09:06:11.759136Z"
    }
   },
   "cell_type": "code",
   "source": [
    "# jst = AutoFileJester(datadir, 'csv')\n",
    "# # jst = AutoFileJester(datadir / '*.csv')\n",
    "\n",
    "log = io.StringIO()\n",
    "jst = Jester(datadir / '**/*.csv', log_file=log, item_print_msgs=10)\n",
    "jst"
   ],
   "id": "4545742c249a8e9b",
   "outputs": [
    {
     "data": {
      "text/plain": [
       "[10/10 paths in C:\\Users\\anwan\\OneDrive\\Khan\\research\\alphageometry\\data\\old]"
      ]
     },
     "execution_count": 4,
     "metadata": {},
     "output_type": "execute_result"
    }
   ],
   "execution_count": 4
  },
  {
   "metadata": {
    "ExecuteTime": {
     "end_time": "2024-08-19T09:06:50.660181Z",
     "start_time": "2024-08-19T09:06:13.152844Z"
    }
   },
   "cell_type": "code",
   "source": [
    "ls = []\n",
    "for x in jst:\n",
    "    ls.append(x)\n",
    "    time.sleep(0.02)"
   ],
   "id": "6ea9bad515d7f695",
   "outputs": [
    {
     "data": {
      "text/plain": [
       "  0%|          | 0/10 [00:00<?, ?it/s]"
      ],
      "application/vnd.jupyter.widget-view+json": {
       "version_major": 2,
       "version_minor": 0,
       "model_id": "310c169329b84bd38b789814c0950a4b"
      }
     },
     "metadata": {},
     "output_type": "display_data"
    },
    {
     "data": {
      "text/plain": [
       "  0%|          | 0/82 [00:00<?, ?it/s]"
      ],
      "application/vnd.jupyter.widget-view+json": {
       "version_major": 2,
       "version_minor": 0,
       "model_id": "d1423701ea3146adaddeb57fcaa517a2"
      }
     },
     "metadata": {},
     "output_type": "display_data"
    },
    {
     "data": {
      "text/plain": [
       "  0%|          | 0/364 [00:00<?, ?it/s]"
      ],
      "application/vnd.jupyter.widget-view+json": {
       "version_major": 2,
       "version_minor": 0,
       "model_id": "b774e215e9e2498eb3e4e090da30be1b"
      }
     },
     "metadata": {},
     "output_type": "display_data"
    },
    {
     "data": {
      "text/plain": [
       "  0%|          | 0/31 [00:00<?, ?it/s]"
      ],
      "application/vnd.jupyter.widget-view+json": {
       "version_major": 2,
       "version_minor": 0,
       "model_id": "6e41250adf2c4cab97ef97dc69576e67"
      }
     },
     "metadata": {},
     "output_type": "display_data"
    },
    {
     "data": {
      "text/plain": [
       "  0%|          | 0/17 [00:00<?, ?it/s]"
      ],
      "application/vnd.jupyter.widget-view+json": {
       "version_major": 2,
       "version_minor": 0,
       "model_id": "545588b44e8a4617aefc09da36a1faff"
      }
     },
     "metadata": {},
     "output_type": "display_data"
    },
    {
     "data": {
      "text/plain": [
       "  0%|          | 0/155 [00:00<?, ?it/s]"
      ],
      "application/vnd.jupyter.widget-view+json": {
       "version_major": 2,
       "version_minor": 0,
       "model_id": "442c81df29104baaab3dea04ccdd0b4a"
      }
     },
     "metadata": {},
     "output_type": "display_data"
    },
    {
     "data": {
      "text/plain": [
       "  0%|          | 0/136 [00:00<?, ?it/s]"
      ],
      "application/vnd.jupyter.widget-view+json": {
       "version_major": 2,
       "version_minor": 0,
       "model_id": "436d96b34d3645ffadff626cfe73d850"
      }
     },
     "metadata": {},
     "output_type": "display_data"
    },
    {
     "data": {
      "text/plain": [
       "  0%|          | 0/233 [00:00<?, ?it/s]"
      ],
      "application/vnd.jupyter.widget-view+json": {
       "version_major": 2,
       "version_minor": 0,
       "model_id": "db59e4332fea44fa834736e05e0b582c"
      }
     },
     "metadata": {},
     "output_type": "display_data"
    },
    {
     "data": {
      "text/plain": [
       "  0%|          | 0/14 [00:00<?, ?it/s]"
      ],
      "application/vnd.jupyter.widget-view+json": {
       "version_major": 2,
       "version_minor": 0,
       "model_id": "e8644998533e4959933fe0803eced772"
      }
     },
     "metadata": {},
     "output_type": "display_data"
    },
    {
     "data": {
      "text/plain": [
       "  0%|          | 0/6 [00:00<?, ?it/s]"
      ],
      "application/vnd.jupyter.widget-view+json": {
       "version_major": 2,
       "version_minor": 0,
       "model_id": "29215d3a94c24aa29c7e03cbeafb3912"
      }
     },
     "metadata": {},
     "output_type": "display_data"
    },
    {
     "data": {
      "text/plain": [
       "  0%|          | 0/670 [00:00<?, ?it/s]"
      ],
      "application/vnd.jupyter.widget-view+json": {
       "version_major": 2,
       "version_minor": 0,
       "model_id": "bf02e8af337d4cb2a2d2fde23fd3516f"
      }
     },
     "metadata": {},
     "output_type": "display_data"
    }
   ],
   "execution_count": 5
  },
  {
   "metadata": {
    "ExecuteTime": {
     "end_time": "2024-08-19T09:06:50.669332Z",
     "start_time": "2024-08-19T09:06:50.661185Z"
    }
   },
   "cell_type": "code",
   "source": [
    "log.seek(0)\n",
    "rawlog = log.read()\n",
    "print(rawlog)"
   ],
   "id": "14f40178b9da15a0",
   "outputs": [
    {
     "name": "stdout",
     "output_type": "stream",
     "text": [
      "Loading 10 in C:\\Users\\anwan\\OneDrive\\Khan\\research\\alphageometry\\data\\old\n",
      "nl_fl_dataset_0.csv:   0% | 0/10 [00:00<?, ?it/s]\n",
      "  0% | 0/82 [00:00<?, ?it/s]\n",
      " 12% | 10/82 [00:00<00:01, 46.68it/s]\n",
      " 24% | 20/82 [00:00<00:01, 46.63it/s]\n",
      " 37% | 30/82 [00:00<00:01, 47.28it/s]\n",
      " 49% | 40/82 [00:00<00:00, 47.62it/s]\n",
      " 61% | 50/82 [00:01<00:00, 47.33it/s]\n",
      " 73% | 60/82 [00:01<00:00, 47.72it/s]\n",
      " 85% | 70/82 [00:01<00:00, 47.76it/s]\n",
      " 98% | 80/82 [00:01<00:00, 47.65it/s]\n",
      "100% | 82/82 [00:01<00:00, 47.65it/s]\n",
      "nl_fl_dataset_1.csv:  10% | 1/10 [00:01<00:15,  1.76s/it]\n",
      "  0% | 0/364 [00:00<?, ?it/s]\n",
      " 11% | 40/364 [00:00<00:07, 46.00it/s]\n",
      " 22% | 80/364 [00:01<00:06, 46.50it/s]\n",
      " 33% | 120/364 [00:02<00:05, 45.71it/s]\n",
      " 44% | 160/364 [00:03<00:04, 45.12it/s]\n",
      " 55% | 200/364 [00:04<00:03, 44.69it/s]\n",
      " 66% | 240/364 [00:05<00:02, 47.74it/s]\n",
      " 77% | 280/364 [00:06<00:01, 47.63it/s]\n",
      " 88% | 320/364 [00:06<00:00, 47.80it/s]\n",
      " 99% | 360/364 [00:07<00:00, 46.11it/s]\n",
      "100% | 364/364 [00:07<00:00, 46.11it/s]\n",
      "nl_fl_dataset_2.csv:  20% | 2/10 [00:09<00:43,  5.40s/it]\n",
      "  0% | 0/31 [00:00<?, ?it/s]\n",
      " 26% | 8/31 [00:00<00:00, 38.69it/s]\n",
      " 42% | 13/31 [00:00<00:00, 41.27it/s]\n",
      " 58% | 18/31 [00:00<00:00, 41.54it/s]\n",
      " 74% | 23/31 [00:00<00:00, 43.39it/s]\n",
      " 90% | 28/31 [00:00<00:00, 44.74it/s]\n",
      "100% | 31/31 [00:00<00:00, 44.74it/s]\n",
      "nl_fl_dataset_3.csv:  30% | 3/10 [00:10<00:22,  3.27s/it]\n",
      "  0% | 0/17 [00:00<?, ?it/s]\n",
      " 29% | 5/17 [00:00<00:00, 44.27it/s]\n",
      " 59% | 10/17 [00:00<00:00, 44.79it/s]\n",
      " 88% | 15/17 [00:00<00:00, 45.54it/s]\n",
      "100% | 17/17 [00:00<00:00, 45.54it/s]\n",
      "nl_fl_dataset_4.csv:  40% | 4/10 [00:10<00:12,  2.13s/it]\n",
      "  0% | 0/155 [00:00<?, ?it/s]\n",
      " 13% | 20/155 [00:00<00:02, 45.96it/s]\n",
      " 26% | 40/155 [00:00<00:02, 45.76it/s]\n",
      " 39% | 60/155 [00:01<00:02, 45.81it/s]\n",
      " 52% | 80/155 [00:01<00:01, 46.89it/s]\n",
      " 65% | 100/155 [00:02<00:01, 47.74it/s]\n",
      " 77% | 120/155 [00:02<00:00, 47.88it/s]\n",
      " 90% | 140/155 [00:02<00:00, 47.69it/s]\n",
      "100% | 155/155 [00:03<00:00, 47.87it/s]\n",
      "nl_fl_dataset_5.csv:  50% | 5/10 [00:14<00:12,  2.57s/it]\n",
      "  0% | 0/136 [00:00<?, ?it/s]\n",
      " 11% | 15/136 [00:00<00:02, 46.67it/s]\n",
      " 22% | 30/136 [00:00<00:02, 46.90it/s]\n",
      " 33% | 45/136 [00:00<00:01, 45.95it/s]\n",
      " 44% | 60/136 [00:01<00:01, 45.52it/s]\n",
      " 55% | 75/136 [00:01<00:01, 43.74it/s]\n",
      " 66% | 90/136 [00:02<00:01, 41.53it/s]\n",
      " 77% | 105/136 [00:02<00:00, 42.38it/s]\n",
      " 88% | 120/136 [00:02<00:00, 43.82it/s]\n",
      " 99% | 135/136 [00:03<00:00, 43.10it/s]\n",
      "100% | 136/136 [00:03<00:00, 43.10it/s]\n",
      "nl_fl_dataset_6.csv:  60% | 6/10 [00:17<00:10,  2.75s/it]\n",
      "  0% | 0/233 [00:00<?, ?it/s]\n",
      " 11% | 25/233 [00:00<00:04, 45.60it/s]\n",
      " 21% | 50/233 [00:01<00:03, 45.77it/s]\n",
      " 32% | 75/233 [00:01<00:03, 46.65it/s]\n",
      " 43% | 100/233 [00:02<00:02, 47.58it/s]\n",
      " 54% | 125/233 [00:02<00:02, 47.09it/s]\n",
      " 64% | 150/233 [00:03<00:01, 47.18it/s]\n",
      " 75% | 175/233 [00:03<00:01, 46.26it/s]\n",
      " 86% | 200/233 [00:04<00:00, 46.02it/s]\n",
      " 97% | 225/233 [00:04<00:00, 44.98it/s]\n",
      "100% | 233/233 [00:05<00:00, 42.03it/s]\n",
      "nl_fl_dataset_7.csv:  70% | 7/10 [00:22<00:10,  3.52s/it]\n",
      "  0% | 0/14 [00:00<?, ?it/s]\n",
      " 29% | 4/14 [00:00<00:00, 39.32it/s]\n",
      " 64% | 9/14 [00:00<00:00, 44.50it/s]\n",
      "100% | 14/14 [00:00<00:00, 45.24it/s]\n",
      "nl_fl_dataset_8.csv:  80% | 8/10 [00:22<00:05,  2.50s/it]\n",
      "  0% | 0/6 [00:00<?, ?it/s]\n",
      " 83% | 5/6 [00:00<00:00, 42.55it/s]\n",
      "100% | 6/6 [00:00<00:00, 42.55it/s]\n",
      "nl_fl_dataset_9.csv:  90% | 9/10 [00:22<00:01,  1.77s/it]\n",
      "  0% | 0/670 [00:00<?, ?it/s]\n",
      " 10% | 70/670 [00:01<00:13, 44.94it/s]\n",
      " 21% | 140/670 [00:03<00:11, 47.93it/s]\n",
      " 31% | 210/670 [00:04<00:09, 47.00it/s]\n",
      " 42% | 280/670 [00:06<00:08, 45.51it/s]\n",
      " 52% | 350/670 [00:07<00:07, 45.07it/s]\n",
      " 63% | 420/670 [00:09<00:05, 47.78it/s]\n",
      " 73% | 490/670 [00:10<00:03, 47.12it/s]\n",
      " 84% | 560/670 [00:12<00:02, 44.70it/s]\n",
      " 94% | 630/670 [00:13<00:00, 42.65it/s]\n",
      "100% | 670/670 [00:14<00:00, 47.17it/s]\n",
      "Done with 10 files in C:\\Users\\anwan\\OneDrive\\Khan\\research\\alphageometry\\data\\old\n",
      "\n"
     ]
    }
   ],
   "execution_count": 6
  },
  {
   "metadata": {},
   "cell_type": "code",
   "outputs": [],
   "execution_count": null,
   "source": "",
   "id": "58641e7e451fce45"
  },
  {
   "metadata": {},
   "cell_type": "code",
   "outputs": [],
   "execution_count": null,
   "source": "",
   "id": "b96e5dfce0ce2cb7"
  },
  {
   "metadata": {},
   "cell_type": "code",
   "outputs": [],
   "execution_count": null,
   "source": "",
   "id": "ef8706f8b432580f"
  },
  {
   "metadata": {},
   "cell_type": "code",
   "outputs": [],
   "execution_count": null,
   "source": "",
   "id": "212931892e999055"
  },
  {
   "metadata": {
    "ExecuteTime": {
     "end_time": "2024-08-18T08:17:53.467691Z",
     "start_time": "2024-08-18T08:17:53.464077Z"
    }
   },
   "cell_type": "code",
   "source": [
    "from tqdm.notebook import tqdm\n",
    "import time"
   ],
   "id": "dbec2658026fb7a3",
   "outputs": [],
   "execution_count": 3
  },
  {
   "metadata": {
    "ExecuteTime": {
     "end_time": "2024-08-18T06:49:50.126229Z",
     "start_time": "2024-08-18T06:49:42.311292Z"
    }
   },
   "cell_type": "code",
   "source": [
    "# Outer loop\n",
    "for i in tqdm(range(5), desc=\"Outer Loop\"):\n",
    "    # Inner loop\n",
    "    for j in tqdm(range(3), desc=f\"Inner Loop {i+1}\", leave=False):\n",
    "        time.sleep(0.5)  # Simulate some work\n"
   ],
   "id": "c40656c83e081287",
   "outputs": [
    {
     "data": {
      "text/plain": [
       "Outer Loop:   0%|          | 0/5 [00:00<?, ?it/s]"
      ],
      "application/vnd.jupyter.widget-view+json": {
       "version_major": 2,
       "version_minor": 0,
       "model_id": "e8af49daf3c641eab2819783ffb14019"
      }
     },
     "metadata": {},
     "output_type": "display_data"
    },
    {
     "data": {
      "text/plain": [
       "Inner Loop 1:   0%|          | 0/3 [00:00<?, ?it/s]"
      ],
      "application/vnd.jupyter.widget-view+json": {
       "version_major": 2,
       "version_minor": 0,
       "model_id": "ea466185676345c982b8dc32747773ed"
      }
     },
     "metadata": {},
     "output_type": "display_data"
    },
    {
     "data": {
      "text/plain": [
       "Inner Loop 2:   0%|          | 0/3 [00:00<?, ?it/s]"
      ],
      "application/vnd.jupyter.widget-view+json": {
       "version_major": 2,
       "version_minor": 0,
       "model_id": "daf3b9844db04992a3d17279fa7dd675"
      }
     },
     "metadata": {},
     "output_type": "display_data"
    },
    {
     "data": {
      "text/plain": [
       "Inner Loop 3:   0%|          | 0/3 [00:00<?, ?it/s]"
      ],
      "application/vnd.jupyter.widget-view+json": {
       "version_major": 2,
       "version_minor": 0,
       "model_id": "14e3b1208484477abc8ce6ae74c558c9"
      }
     },
     "metadata": {},
     "output_type": "display_data"
    },
    {
     "data": {
      "text/plain": [
       "Inner Loop 4:   0%|          | 0/3 [00:00<?, ?it/s]"
      ],
      "application/vnd.jupyter.widget-view+json": {
       "version_major": 2,
       "version_minor": 0,
       "model_id": "100a429dc11c45f192a01cb34b79bba3"
      }
     },
     "metadata": {},
     "output_type": "display_data"
    },
    {
     "data": {
      "text/plain": [
       "Inner Loop 5:   0%|          | 0/3 [00:00<?, ?it/s]"
      ],
      "application/vnd.jupyter.widget-view+json": {
       "version_major": 2,
       "version_minor": 0,
       "model_id": "bf37d858c5e24b8b87147262ac5ca959"
      }
     },
     "metadata": {},
     "output_type": "display_data"
    }
   ],
   "execution_count": 6
  },
  {
   "metadata": {
    "ExecuteTime": {
     "end_time": "2024-08-18T08:20:14.293098Z",
     "start_time": "2024-08-18T08:20:12.208131Z"
    }
   },
   "cell_type": "code",
   "source": [
    "for x in tqdm(range(10)):\n",
    "    time.sleep(0.2)"
   ],
   "id": "c7687d7ee2154474",
   "outputs": [
    {
     "data": {
      "text/plain": [
       "  0%|          | 0/10 [00:00<?, ?it/s]"
      ],
      "application/vnd.jupyter.widget-view+json": {
       "version_major": 2,
       "version_minor": 0,
       "model_id": "0cd2ed0b69a14a4b8f361c65d180c0f7"
      }
     },
     "metadata": {},
     "output_type": "display_data"
    }
   ],
   "execution_count": 5
  },
  {
   "metadata": {},
   "cell_type": "code",
   "outputs": [],
   "execution_count": null,
   "source": "",
   "id": "2a4f4a8780eaf73b"
  },
  {
   "metadata": {
    "ExecuteTime": {
     "end_time": "2024-08-19T06:30:03.421335Z",
     "start_time": "2024-08-19T06:30:03.062203Z"
    }
   },
   "cell_type": "code",
   "source": [
    "import time\n",
    "import io\n",
    "from tqdm.notebook import tqdm\n",
    "from omnibelt.jester import view, select, batchify, AutoFileJester, where_am_i, ProgressBarIterator, HierarchicalProgressBar"
   ],
   "id": "320c6d2ed349a400",
   "outputs": [],
   "execution_count": 1
  },
  {
   "metadata": {
    "ExecuteTime": {
     "end_time": "2024-08-19T06:30:05.500752Z",
     "start_time": "2024-08-19T06:30:03.424139Z"
    }
   },
   "cell_type": "code",
   "source": [
    "log = io.StringIO()\n",
    "pbar = ProgressBarIterator(10, log_file=log)\n",
    "for x in pbar:\n",
    "    time.sleep(0.2)"
   ],
   "id": "7b525a478df7785d",
   "outputs": [
    {
     "data": {
      "text/plain": [
       "  0%|          | 0/10 [00:00<?, ?it/s]"
      ],
      "application/vnd.jupyter.widget-view+json": {
       "version_major": 2,
       "version_minor": 0,
       "model_id": "2ff20d1b577746d9aa4015554f4ffea9"
      }
     },
     "metadata": {},
     "output_type": "display_data"
    }
   ],
   "execution_count": 2
  },
  {
   "metadata": {
    "ExecuteTime": {
     "end_time": "2024-08-19T06:30:05.516686Z",
     "start_time": "2024-08-19T06:30:05.503265Z"
    }
   },
   "cell_type": "code",
   "source": [
    "log.seek(0)\n",
    "rawlog = log.read()\n",
    "# display(rawlog)\n",
    "print(rawlog)"
   ],
   "id": "9b7e7d6bdd186a50",
   "outputs": [
    {
     "name": "stdout",
     "output_type": "stream",
     "text": [
      "  0% | 0/10 [00:00<?, ?it/s]\n",
      " 10% | 1/10 [00:00<00:01,  4.75it/s]\n",
      " 20% | 2/10 [00:00<00:01,  4.85it/s]\n",
      " 30% | 3/10 [00:00<00:01,  4.80it/s]\n",
      " 40% | 4/10 [00:00<00:01,  4.84it/s]\n",
      " 50% | 5/10 [00:01<00:01,  4.88it/s]\n",
      " 60% | 6/10 [00:01<00:00,  4.91it/s]\n",
      " 70% | 7/10 [00:01<00:00,  4.93it/s]\n",
      " 80% | 8/10 [00:01<00:00,  4.93it/s]\n",
      " 90% | 9/10 [00:01<00:00,  4.92it/s]\n",
      "100% | 10/10 [00:02<00:00,  4.91it/s]\n",
      "\n"
     ]
    }
   ],
   "execution_count": 3
  },
  {
   "metadata": {
    "ExecuteTime": {
     "end_time": "2024-08-19T06:30:12.224542Z",
     "start_time": "2024-08-19T06:30:09.058004Z"
    }
   },
   "cell_type": "code",
   "source": [
    "log = io.StringIO()\n",
    "pbar = HierarchicalProgressBar()\n",
    "for x in pbar.push(2, log_file=log, brancher=lambda x: pbar.Level(1000, log_file=log, reporter= lambda x, _: x, leave=False), \n",
    "                   reporter=lambda x, _: f'Processing {x+1}', desc='Round 1'):\n",
    "    time.sleep(0.001)"
   ],
   "id": "4976a52ffe538f3",
   "outputs": [
    {
     "data": {
      "text/plain": [
       "Round 1:   0%|          | 0/2 [00:00<?, ?it/s]"
      ],
      "application/vnd.jupyter.widget-view+json": {
       "version_major": 2,
       "version_minor": 0,
       "model_id": "dfc60be9362a476f91eaaa9db78d5763"
      }
     },
     "metadata": {},
     "output_type": "display_data"
    },
    {
     "data": {
      "text/plain": [
       "  0%|          | 0/1000 [00:00<?, ?it/s]"
      ],
      "application/vnd.jupyter.widget-view+json": {
       "version_major": 2,
       "version_minor": 0,
       "model_id": "36dd9dc1e4e34a0c8ace0d266e78cdc6"
      }
     },
     "metadata": {},
     "output_type": "display_data"
    },
    {
     "data": {
      "text/plain": [
       "  0%|          | 0/1000 [00:00<?, ?it/s]"
      ],
      "application/vnd.jupyter.widget-view+json": {
       "version_major": 2,
       "version_minor": 0,
       "model_id": "883cb409245e4633ae73bf66e4fb09c8"
      }
     },
     "metadata": {},
     "output_type": "display_data"
    }
   ],
   "execution_count": 4
  },
  {
   "metadata": {
    "ExecuteTime": {
     "end_time": "2024-08-19T06:30:12.231873Z",
     "start_time": "2024-08-19T06:30:12.226544Z"
    }
   },
   "cell_type": "code",
   "source": [
    "log.seek(0)\n",
    "rawlog = log.read()\n",
    "# display(rawlog)\n",
    "print(rawlog)"
   ],
   "id": "8eefcfa8af7953bb",
   "outputs": [
    {
     "name": "stdout",
     "output_type": "stream",
     "text": [
      "Starting Round 1\n",
      "0:   0% | 0/1000 [00:00<?, ?it/s]\n",
      "59:   6% | 59/1000 [00:00<00:01, 586.04it/s]\n",
      "122:  12% | 122/1000 [00:00<00:01, 608.64it/s]\n",
      "185:  18% | 185/1000 [00:00<00:01, 613.56it/s]\n",
      "247:  25% | 247/1000 [00:00<00:01, 605.06it/s]\n",
      "309:  31% | 309/1000 [00:00<00:01, 608.86it/s]\n",
      "371:  37% | 371/1000 [00:00<00:01, 612.58it/s]\n",
      "434:  43% | 434/1000 [00:00<00:00, 615.23it/s]\n",
      "498:  50% | 498/1000 [00:00<00:00, 620.49it/s]\n",
      "561:  56% | 561/1000 [00:00<00:00, 586.77it/s]\n",
      "627:  63% | 627/1000 [00:01<00:00, 607.21it/s]\n",
      "690:  69% | 690/1000 [00:01<00:00, 613.24it/s]\n",
      "752:  75% | 752/1000 [00:01<00:00, 609.53it/s]\n",
      "814:  81% | 814/1000 [00:01<00:00, 611.75it/s]\n",
      "876:  88% | 876/1000 [00:01<00:00, 608.70it/s]\n",
      "946:  95% | 946/1000 [00:01<00:00, 635.48it/s]\n",
      "Level 2 Done\n",
      "Processing 2:  50% | 1/2 [00:01<00:01,  1.63s/it]\n",
      "0:   0% | 0/1000 [00:00<?, ?it/s]\n",
      "58:   6% | 58/1000 [00:00<00:01, 578.39it/s]\n",
      "123:  12% | 123/1000 [00:00<00:01, 620.37it/s]\n",
      "190:  19% | 190/1000 [00:00<00:01, 640.23it/s]\n",
      "255:  26% | 255/1000 [00:00<00:01, 637.60it/s]\n",
      "324:  32% | 324/1000 [00:00<00:01, 655.11it/s]\n",
      "390:  39% | 390/1000 [00:00<00:00, 653.88it/s]\n",
      "457:  46% | 457/1000 [00:00<00:00, 657.39it/s]\n",
      "523:  52% | 523/1000 [00:00<00:00, 648.11it/s]\n",
      "589:  59% | 589/1000 [00:00<00:00, 650.25it/s]\n",
      "656:  66% | 656/1000 [00:01<00:00, 654.21it/s]\n",
      "724:  72% | 724/1000 [00:01<00:00, 659.70it/s]\n",
      "792:  79% | 792/1000 [00:01<00:00, 665.28it/s]\n",
      "861:  86% | 861/1000 [00:01<00:00, 672.20it/s]\n",
      "929:  93% | 929/1000 [00:01<00:00, 673.38it/s]\n",
      "997: 100% | 997/1000 [00:01<00:00, 667.54it/s]\n",
      "Level 2 Done\n",
      "Level 1 Done\n",
      "\n"
     ]
    }
   ],
   "execution_count": 5
  },
  {
   "metadata": {},
   "cell_type": "code",
   "outputs": [],
   "execution_count": null,
   "source": "",
   "id": "cd591e42b4c5d6b6"
  },
  {
   "metadata": {},
   "cell_type": "code",
   "outputs": [],
   "execution_count": null,
   "source": "",
   "id": "494abb47a3914d0a"
  },
  {
   "metadata": {
    "ExecuteTime": {
     "end_time": "2024-08-18T20:23:58.270048Z",
     "start_time": "2024-08-18T20:23:54.103200Z"
    }
   },
   "cell_type": "code",
   "source": [
    "pbar = ProgressBar()\n",
    "ls = []\n",
    "for x in pbar.push(4, seeder=lambda x: 'abcde', scribe=lambda x: f'Processing {x+1}'):\n",
    "    time.sleep(0.2)\n",
    "    ls.append(x)\n",
    "print(ls)"
   ],
   "id": "f432a71586c60c10",
   "outputs": [
    {
     "data": {
      "text/plain": [
       "  0%|          | 0/4 [00:00<?, ?it/s]"
      ],
      "application/vnd.jupyter.widget-view+json": {
       "version_major": 2,
       "version_minor": 0,
       "model_id": "1ba1351bd8c44d97ae06841671672923"
      }
     },
     "metadata": {},
     "output_type": "display_data"
    },
    {
     "data": {
      "text/plain": [
       "  0%|          | 0/5 [00:00<?, ?it/s]"
      ],
      "application/vnd.jupyter.widget-view+json": {
       "version_major": 2,
       "version_minor": 0,
       "model_id": "ea5b302e55ab4952b4a19af19fe1ba71"
      }
     },
     "metadata": {},
     "output_type": "display_data"
    },
    {
     "data": {
      "text/plain": [
       "  0%|          | 0/5 [00:00<?, ?it/s]"
      ],
      "application/vnd.jupyter.widget-view+json": {
       "version_major": 2,
       "version_minor": 0,
       "model_id": "4e8b056075f7411abec1262ff181bc3d"
      }
     },
     "metadata": {},
     "output_type": "display_data"
    },
    {
     "data": {
      "text/plain": [
       "  0%|          | 0/5 [00:00<?, ?it/s]"
      ],
      "application/vnd.jupyter.widget-view+json": {
       "version_major": 2,
       "version_minor": 0,
       "model_id": "e9f7c68bd09a4b138715b1bf8c72c15a"
      }
     },
     "metadata": {},
     "output_type": "display_data"
    },
    {
     "data": {
      "text/plain": [
       "  0%|          | 0/5 [00:00<?, ?it/s]"
      ],
      "application/vnd.jupyter.widget-view+json": {
       "version_major": 2,
       "version_minor": 0,
       "model_id": "f6909d62b9c24b719ed09417318abed1"
      }
     },
     "metadata": {},
     "output_type": "display_data"
    },
    {
     "name": "stdout",
     "output_type": "stream",
     "text": [
      "['a', 'b', 'c', 'd', 'e', 'a', 'b', 'c', 'd', 'e', 'a', 'b', 'c', 'd', 'e', 'a', 'b', 'c', 'd', 'e']\n"
     ]
    }
   ],
   "execution_count": 13
  },
  {
   "metadata": {
    "ExecuteTime": {
     "end_time": "2024-08-18T22:33:30.542664Z",
     "start_time": "2024-08-18T22:33:30.537556Z"
    }
   },
   "cell_type": "code",
   "source": [
    "ls = range(10)\n",
    "pbar = tqdm(total=len(ls), disable=True)\n"
   ],
   "id": "59283800b8c90d8f",
   "outputs": [],
   "execution_count": 19
  },
  {
   "metadata": {
    "ExecuteTime": {
     "end_time": "2024-08-18T22:34:00.655122Z",
     "start_time": "2024-08-18T22:34:00.650719Z"
    }
   },
   "cell_type": "code",
   "source": "pbar.update(1)",
   "id": "d3516f513f742094",
   "outputs": [],
   "execution_count": 25
  },
  {
   "metadata": {
    "ExecuteTime": {
     "end_time": "2024-08-18T22:36:28.791058Z",
     "start_time": "2024-08-18T22:36:28.786397Z"
    }
   },
   "cell_type": "code",
   "source": "str(pbar)",
   "id": "3d1035a6a3e760f0",
   "outputs": [
    {
     "data": {
      "text/plain": [
       "'  0%|          | 0/10 [00:00<?, ?it/s]'"
      ]
     },
     "execution_count": 31,
     "metadata": {},
     "output_type": "execute_result"
    }
   ],
   "execution_count": 31
  },
  {
   "metadata": {
    "ExecuteTime": {
     "end_time": "2024-08-18T22:36:27.047137Z",
     "start_time": "2024-08-18T22:36:27.043564Z"
    }
   },
   "cell_type": "code",
   "source": "pbar.refresh()",
   "id": "c5e7198ab0cf66be",
   "outputs": [],
   "execution_count": 30
  },
  {
   "metadata": {
    "ExecuteTime": {
     "end_time": "2024-08-18T22:44:32.708740Z",
     "start_time": "2024-08-18T22:44:32.702777Z"
    }
   },
   "cell_type": "code",
   "source": "",
   "id": "e2ab1ad6d0dd9fe8",
   "outputs": [],
   "execution_count": 42
  },
  {
   "metadata": {
    "ExecuteTime": {
     "end_time": "2024-08-18T23:33:40.465782Z",
     "start_time": "2024-08-18T23:33:40.460092Z"
    }
   },
   "cell_type": "code",
   "source": [
    "from tqdm.notebook import tqdm\n",
    "import io\n",
    "class logtqdm(tqdm):\n",
    "    def __init__(self, *args, no_pbar: bool = False, log_file: io.StringIO = None, target_log_count: int = 100, \n",
    "                 log_fmt='None',**kwargs):\n",
    "        if no_pbar:\n",
    "            assert log_file is not None\n",
    "        super().__init__(*args, **kwargs)\n",
    "        self.no_pbar = no_pbar\n",
    "        self.log_file = log_file\n",
    "        self.log_fmt = log_fmt\n",
    "        self.target_log_count = target_log_count\n",
    "        \n",
    "    def refresh(self, nolock = False, lock_args = None):\n",
    "        # super().refresh(nolock, lock_args)\n",
    "        if self.log_file is not None:\n",
    "            # self.log_file.write(f'{self.log_fmt.format(**self.format_dict)}\\n')\n",
    "            self.log_file.write(f'{self}\\n')\n",
    "            self.log_file.flush()\n",
    "        if not self.no_pbar:\n",
    "            super().refresh(nolock, lock_args)"
   ],
   "id": "1eec47b88249625f",
   "outputs": [],
   "execution_count": 79
  },
  {
   "metadata": {
    "ExecuteTime": {
     "end_time": "2024-08-18T23:04:02.908089Z",
     "start_time": "2024-08-18T23:04:02.903148Z"
    }
   },
   "cell_type": "code",
   "source": [
    "from IPython.display import display\n",
    "# from tqdm.notebook import tqdm\n",
    "from tqdm import tqdm"
   ],
   "id": "95a17c5adcccc9b",
   "outputs": [],
   "execution_count": 73
  },
  {
   "metadata": {
    "ExecuteTime": {
     "end_time": "2024-08-18T23:38:00.611343Z",
     "start_time": "2024-08-18T23:37:48.426753Z"
    }
   },
   "cell_type": "code",
   "source": [
    "f = io.StringIO()\n",
    "log = io.StringIO()\n",
    "# with tqdm(total=100, ascii=True, file=f) as pbar:\n",
    "work = range(1000)\n",
    "with logtqdm(work, ascii=True, file=f, log_file=log, no_pbar=False) as pbar:\n",
    "    # pbar.sp = lambda x: print(f'hello: {x}')\n",
    "    for i in pbar:\n",
    "        time.sleep(0.01)"
   ],
   "id": "f8766ab130c84803",
   "outputs": [
    {
     "data": {
      "text/plain": [
       "  0%|          | 0/1000 [00:00<?, ?it/s]"
      ],
      "application/vnd.jupyter.widget-view+json": {
       "version_major": 2,
       "version_minor": 0,
       "model_id": "abd53821a0b74773b9bd899c0f4ee443"
      }
     },
     "metadata": {},
     "output_type": "display_data"
    }
   ],
   "execution_count": 85
  },
  {
   "metadata": {
    "ExecuteTime": {
     "end_time": "2024-08-18T23:38:52.279428Z",
     "start_time": "2024-08-18T23:38:40.095825Z"
    }
   },
   "cell_type": "code",
   "source": [
    "work = range(1000)\n",
    "with tqdm(work, ascii=True, file=f) as pbar:\n",
    "    for i in pbar:\n",
    "        time.sleep(0.01)"
   ],
   "id": "c50816e2ec0b84f3",
   "outputs": [
    {
     "data": {
      "text/plain": [
       "  0%|          | 0/1000 [00:00<?, ?it/s]"
      ],
      "application/vnd.jupyter.widget-view+json": {
       "version_major": 2,
       "version_minor": 0,
       "model_id": "5eeb7597d06644e7809d9293e5556a23"
      }
     },
     "metadata": {},
     "output_type": "display_data"
    }
   ],
   "execution_count": 88
  },
  {
   "metadata": {
    "ExecuteTime": {
     "end_time": "2024-08-18T23:38:01.974374Z",
     "start_time": "2024-08-18T23:38:01.968680Z"
    }
   },
   "cell_type": "code",
   "source": [
    "log.seek(0)\n",
    "display(log.read())"
   ],
   "id": "fd22918199d6eace",
   "outputs": [
    {
     "data": {
      "text/plain": [
       "'10/1000\\n20/1000\\n30/1000\\n40/1000\\n50/1000\\n60/1000\\n70/1000\\n80/1000\\n90/1000\\n100/1000\\n110/1000\\n119/1000\\n128/1000\\n137/1000\\n147/1000\\n156/1000\\n166/1000\\n175/1000\\n184/1000\\n194/1000\\n203/1000\\n212/1000\\n221/1000\\n230/1000\\n240/1000\\n250/1000\\n259/1000\\n268/1000\\n278/1000\\n287/1000\\n296/1000\\n305/1000\\n315/1000\\n324/1000\\n333/1000\\n342/1000\\n351/1000\\n359/1000\\n367/1000\\n376/1000\\n385/1000\\n394/1000\\n404/1000\\n414/1000\\n424/1000\\n434/1000\\n443/1000\\n453/1000\\n462/1000\\n471/1000\\n480/1000\\n489/1000\\n498/1000\\n506/1000\\n515/1000\\n525/1000\\n534/1000\\n543/1000\\n553/1000\\n562/1000\\n571/1000\\n580/1000\\n589/1000\\n598/1000\\n607/1000\\n617/1000\\n626/1000\\n636/1000\\n645/1000\\n655/1000\\n664/1000\\n673/1000\\n682/1000\\n690/1000\\n699/1000\\n709/1000\\n719/1000\\n728/1000\\n737/1000\\n746/1000\\n755/1000\\n763/1000\\n772/1000\\n781/1000\\n789/1000\\n797/1000\\n806/1000\\n814/1000\\n822/1000\\n831/1000\\n841/1000\\n851/1000\\n860/1000\\n869/1000\\n879/1000\\n888/1000\\n898/1000\\n907/1000\\n916/1000\\n926/1000\\n935/1000\\n944/1000\\n953/1000\\n963/1000\\n972/1000\\n982/1000\\n991/1000\\n1000/1000\\n'"
      ]
     },
     "metadata": {},
     "output_type": "display_data"
    }
   ],
   "execution_count": 86
  },
  {
   "metadata": {
    "ExecuteTime": {
     "end_time": "2024-08-18T23:38:07.323777Z",
     "start_time": "2024-08-18T23:38:07.318338Z"
    }
   },
   "cell_type": "code",
   "source": [
    "# show f\n",
    "f.seek(0)\n",
    "raw = f.read()\n",
    "display(raw)\n",
    "# print()\n",
    "print(raw)"
   ],
   "id": "756870b8deace93f",
   "outputs": [
    {
     "data": {
      "text/plain": [
       "'\\n'"
      ]
     },
     "metadata": {},
     "output_type": "display_data"
    },
    {
     "name": "stdout",
     "output_type": "stream",
     "text": [
      "\n",
      "\n"
     ]
    }
   ],
   "execution_count": 87
  },
  {
   "metadata": {},
   "cell_type": "code",
   "outputs": [],
   "execution_count": null,
   "source": "",
   "id": "3ca75feab4af11a5"
  },
  {
   "metadata": {},
   "cell_type": "code",
   "outputs": [],
   "execution_count": null,
   "source": "",
   "id": "90732ca9a8d4540c"
  },
  {
   "metadata": {
    "ExecuteTime": {
     "end_time": "2024-08-18T22:40:41.727388Z",
     "start_time": "2024-08-18T22:40:30.560962Z"
    }
   },
   "cell_type": "code",
   "source": [
    "from tqdm import tqdm\n",
    "import time\n",
    "\n",
    "# Simulate multiple tasks\n",
    "with tqdm(total=100, desc=\"Task 1\", position=0, nrows=3) as pbar1, \\\n",
    "     tqdm(total=100, desc=\"Task 2\", position=1, nrows=3) as pbar2, \\\n",
    "     tqdm(total=100, desc=\"Task 3\", position=2, nrows=3) as pbar3:\n",
    "    for i in range(100):\n",
    "        pbar1.update(1)\n",
    "        pbar2.update(1)\n",
    "        pbar3.update(1)\n",
    "        time.sleep(0.1)\n"
   ],
   "id": "8652e4cff378e4ed",
   "outputs": [
    {
     "name": "stderr",
     "output_type": "stream",
     "text": [
      "Task 1:   0%|          | 0/100 [00:00<?, ?it/s]\n",
      "Task 2:   0%|          | 0/100 [00:00<?, ?it/s]\u001B[A\n",
      "\n",
      "Task 1:   2%|▏         | 2/100 [00:00<00:05, 18.57it/s]\n",
      "Task 2:   2%|▏         | 2/100 [00:00<00:05, 18.88it/s]\u001B[A\n",
      "\n",
      "Task 1:   4%|▍         | 4/100 [00:00<00:07, 12.05it/s]\n",
      "Task 2:   4%|▍         | 4/100 [00:00<00:07, 12.04it/s]\u001B[A\n",
      "\n",
      "Task 1:   6%|▌         | 6/100 [00:00<00:08, 10.77it/s]\n",
      "Task 2:   6%|▌         | 6/100 [00:00<00:08, 10.79it/s]\u001B[A\n",
      "\n",
      "Task 1:   8%|▊         | 8/100 [00:00<00:08, 10.31it/s]\n",
      "Task 2:   8%|▊         | 8/100 [00:00<00:08, 10.33it/s]\u001B[A\n",
      "\n",
      "Task 1:  10%|█         | 10/100 [00:00<00:09,  9.92it/s]\n",
      "Task 2:  10%|█         | 10/100 [00:00<00:09,  9.90it/s]\u001B[A\n",
      "\n",
      "Task 1:  12%|█▏        | 12/100 [00:01<00:09,  9.54it/s]\n",
      "Task 2:  12%|█▏        | 12/100 [00:01<00:09,  9.54it/s]\u001B[A\n",
      "\n",
      "Task 1:  13%|█▎        | 13/100 [00:01<00:09,  9.42it/s]\n",
      "Task 2:  13%|█▎        | 13/100 [00:01<00:09,  9.43it/s]\u001B[A\n",
      "\n",
      "Task 1:  14%|█▍        | 14/100 [00:01<00:09,  9.38it/s]\n",
      "Task 2:  14%|█▍        | 14/100 [00:01<00:09,  9.41it/s]\u001B[A\n",
      "\n",
      "Task 1:  15%|█▌        | 15/100 [00:01<00:09,  9.37it/s]\n",
      "Task 2:  15%|█▌        | 15/100 [00:01<00:09,  9.38it/s]\u001B[A\n",
      "\n",
      "Task 1:  16%|█▌        | 16/100 [00:01<00:08,  9.37it/s]\n",
      "Task 2:  16%|█▌        | 16/100 [00:01<00:08,  9.39it/s]\u001B[A\n",
      "\n",
      "Task 1:  17%|█▋        | 17/100 [00:01<00:08,  9.43it/s]\n",
      "Task 2:  17%|█▋        | 17/100 [00:01<00:08,  9.41it/s]\u001B[A\n",
      "\n",
      "Task 1:  18%|█▊        | 18/100 [00:01<00:08,  9.40it/s]\n",
      "Task 2:  18%|█▊        | 18/100 [00:01<00:08,  9.45it/s]\u001B[A\n",
      "\n",
      "Task 1:  19%|█▉        | 19/100 [00:01<00:08,  9.42it/s]\n",
      "Task 2:  19%|█▉        | 19/100 [00:01<00:08,  9.39it/s]\u001B[A\n",
      "\n",
      "Task 1:  20%|██        | 20/100 [00:02<00:08,  9.37it/s]\n",
      "Task 2:  20%|██        | 20/100 [00:02<00:08,  9.40it/s]\u001B[A\n",
      "\n",
      "Task 1:  21%|██        | 21/100 [00:02<00:08,  9.42it/s]\n",
      "Task 2:  21%|██        | 21/100 [00:02<00:08,  9.42it/s]\u001B[A\n",
      "\n",
      "Task 1:  22%|██▏       | 22/100 [00:02<00:08,  9.40it/s]\n",
      "Task 2:  22%|██▏       | 22/100 [00:02<00:08,  9.40it/s]\u001B[A\n",
      "\n",
      "Task 1:  23%|██▎       | 23/100 [00:02<00:08,  9.43it/s]\n",
      "Task 2:  23%|██▎       | 23/100 [00:02<00:08,  9.43it/s]\u001B[A\n",
      "\n",
      "Task 1:  24%|██▍       | 24/100 [00:02<00:08,  9.33it/s]\n",
      "Task 2:  24%|██▍       | 24/100 [00:02<00:08,  9.31it/s]\u001B[A\n",
      "\n",
      "Task 1:  25%|██▌       | 25/100 [00:02<00:08,  9.36it/s]\n",
      "Task 2:  25%|██▌       | 25/100 [00:02<00:08,  9.37it/s]\u001B[A\n",
      "\n",
      "Task 1:  26%|██▌       | 26/100 [00:02<00:07,  9.38it/s]\n",
      "Task 2:  26%|██▌       | 26/100 [00:02<00:07,  9.37it/s]\u001B[A\n",
      "\n",
      "Task 1:  27%|██▋       | 27/100 [00:02<00:07,  9.40it/s]\n",
      "Task 2:  27%|██▋       | 27/100 [00:02<00:07,  9.40it/s]\u001B[A\n",
      "\n",
      "Task 1:  28%|██▊       | 28/100 [00:02<00:07,  9.43it/s]\n",
      "Task 2:  28%|██▊       | 28/100 [00:02<00:07,  9.45it/s]\u001B[A\n",
      "\n",
      "Task 1:  29%|██▉       | 29/100 [00:02<00:07,  9.44it/s]\n",
      "Task 2:  29%|██▉       | 29/100 [00:02<00:07,  9.45it/s]\u001B[A\n",
      "\n",
      "Task 1:  30%|███       | 30/100 [00:03<00:07,  9.44it/s]\n",
      "Task 2:  30%|███       | 30/100 [00:03<00:07,  9.44it/s]\u001B[A\n",
      "\n",
      "Task 1:  31%|███       | 31/100 [00:03<00:07,  9.45it/s]\n",
      "Task 2:  31%|███       | 31/100 [00:03<00:07,  9.45it/s]\u001B[A\n",
      "\n",
      "Task 1:  32%|███▏      | 32/100 [00:03<00:07,  9.43it/s]\n",
      "Task 2:  32%|███▏      | 32/100 [00:03<00:07,  9.38it/s]\u001B[A\n",
      "\n",
      "Task 1:  33%|███▎      | 33/100 [00:03<00:07,  9.15it/s]\n",
      "Task 2:  33%|███▎      | 33/100 [00:03<00:07,  9.17it/s]\u001B[A\n",
      "\n",
      "Task 1:  34%|███▍      | 34/100 [00:03<00:07,  9.14it/s]\n",
      "Task 2:  34%|███▍      | 34/100 [00:03<00:07,  9.16it/s]\u001B[A\n",
      "\n",
      "Task 1:  35%|███▌      | 35/100 [00:03<00:07,  9.18it/s]\n",
      "Task 2:  35%|███▌      | 35/100 [00:03<00:07,  9.16it/s]\u001B[A\n",
      "\n",
      "Task 1:  36%|███▌      | 36/100 [00:03<00:07,  8.87it/s]\n",
      "Task 2:  36%|███▌      | 36/100 [00:03<00:07,  8.85it/s]\u001B[A\n",
      "\n",
      "Task 1:  37%|███▋      | 37/100 [00:03<00:07,  8.70it/s]\n",
      "Task 2:  37%|███▋      | 37/100 [00:03<00:07,  8.70it/s]\u001B[A\n",
      "\n",
      "Task 1:  38%|███▊      | 38/100 [00:03<00:07,  8.83it/s]\n",
      "Task 2:  38%|███▊      | 38/100 [00:03<00:07,  8.84it/s]\u001B[A\n",
      "\n",
      "Task 1:  39%|███▉      | 39/100 [00:04<00:06,  9.00it/s]\n",
      "Task 2:  39%|███▉      | 39/100 [00:04<00:06,  8.96it/s]\u001B[A\n",
      "\n",
      "Task 1:  40%|████      | 40/100 [00:04<00:06,  8.97it/s]\n",
      "Task 2:  40%|████      | 40/100 [00:04<00:06,  8.95it/s]\u001B[A\n",
      "\n",
      "Task 1:  41%|████      | 41/100 [00:04<00:06,  8.97it/s]\n",
      "Task 2:  41%|████      | 41/100 [00:04<00:06,  8.97it/s]\u001B[A\n",
      "\n",
      "Task 1:  42%|████▏     | 42/100 [00:04<00:06,  8.75it/s]\n",
      "Task 2:  42%|████▏     | 42/100 [00:04<00:06,  8.77it/s]\u001B[A\n",
      "\n",
      "Task 1:  43%|████▎     | 43/100 [00:04<00:06,  8.66it/s]\n",
      "Task 2:  43%|████▎     | 43/100 [00:04<00:06,  8.63it/s]\u001B[A\n",
      "\n",
      "Task 1:  44%|████▍     | 44/100 [00:04<00:06,  8.80it/s]\n",
      "Task 2:  44%|████▍     | 44/100 [00:04<00:06,  8.80it/s]\u001B[A\n",
      "\n",
      "Task 1:  45%|████▌     | 45/100 [00:04<00:06,  8.98it/s]\n",
      "Task 2:  45%|████▌     | 45/100 [00:04<00:06,  9.02it/s]\u001B[A\n",
      "\n",
      "Task 1:  46%|████▌     | 46/100 [00:04<00:05,  9.05it/s]\n",
      "Task 2:  46%|████▌     | 46/100 [00:04<00:06,  8.88it/s]\u001B[A\n",
      "\n",
      "Task 1:  47%|████▋     | 47/100 [00:05<00:06,  8.66it/s]\n",
      "Task 2:  47%|████▋     | 47/100 [00:05<00:06,  8.71it/s]\u001B[A\n",
      "\n",
      "Task 1:  48%|████▊     | 48/100 [00:05<00:05,  8.68it/s]\n",
      "Task 2:  48%|████▊     | 48/100 [00:05<00:05,  8.72it/s]\u001B[A\n",
      "\n",
      "Task 1:  49%|████▉     | 49/100 [00:05<00:05,  8.91it/s]\n",
      "Task 2:  49%|████▉     | 49/100 [00:05<00:05,  8.97it/s]\u001B[A\n",
      "\n",
      "Task 1:  50%|█████     | 50/100 [00:05<00:05,  8.91it/s]\n",
      "Task 2:  50%|█████     | 50/100 [00:05<00:05,  8.94it/s]\u001B[A\n",
      "\n",
      "Task 1:  51%|█████     | 51/100 [00:05<00:05,  9.05it/s]\n",
      "Task 2:  51%|█████     | 51/100 [00:05<00:05,  9.03it/s]\u001B[A\n",
      "\n",
      "Task 1:  52%|█████▏    | 52/100 [00:05<00:05,  8.93it/s]\n",
      "Task 2:  52%|█████▏    | 52/100 [00:05<00:05,  8.90it/s]\u001B[A\n",
      "\n",
      "Task 1:  53%|█████▎    | 53/100 [00:05<00:05,  8.50it/s]\n",
      "Task 2:  53%|█████▎    | 53/100 [00:05<00:05,  8.55it/s]\u001B[A\n",
      "\n",
      "Task 1:  54%|█████▍    | 54/100 [00:05<00:05,  8.78it/s]\n",
      "Task 2:  54%|█████▍    | 54/100 [00:05<00:05,  8.76it/s]\u001B[A\n",
      "\n",
      "Task 1:  55%|█████▌    | 55/100 [00:05<00:05,  8.81it/s]\n",
      "Task 2:  55%|█████▌    | 55/100 [00:05<00:05,  8.83it/s]\u001B[A\n",
      "\n",
      "Task 1:  56%|█████▌    | 56/100 [00:06<00:04,  8.91it/s]\n",
      "Task 2:  56%|█████▌    | 56/100 [00:06<00:04,  8.89it/s]\u001B[A\n",
      "\n",
      "Task 1:  57%|█████▋    | 57/100 [00:06<00:04,  8.79it/s]\n",
      "Task 2:  57%|█████▋    | 57/100 [00:06<00:04,  8.76it/s]\u001B[A\n",
      "\n",
      "Task 1:  58%|█████▊    | 58/100 [00:06<00:04,  8.72it/s]\n",
      "Task 2:  58%|█████▊    | 58/100 [00:06<00:04,  8.71it/s]\u001B[A\n",
      "\n",
      "Task 1:  59%|█████▉    | 59/100 [00:06<00:04,  8.70it/s]\n",
      "Task 2:  59%|█████▉    | 59/100 [00:06<00:04,  8.73it/s]\u001B[A\n",
      "\n",
      "Task 1:  60%|██████    | 60/100 [00:06<00:04,  8.83it/s]\n",
      "Task 2:  60%|██████    | 60/100 [00:06<00:04,  8.82it/s]\u001B[A\n",
      "\n",
      "Task 1:  61%|██████    | 61/100 [00:06<00:04,  8.76it/s]\n",
      "Task 2:  61%|██████    | 61/100 [00:06<00:04,  8.78it/s]\u001B[A\n",
      "\n",
      "Task 1:  62%|██████▏   | 62/100 [00:06<00:04,  8.88it/s]\n",
      "Task 2:  62%|██████▏   | 62/100 [00:06<00:04,  8.87it/s]\u001B[A\n",
      "\n",
      "Task 1:  63%|██████▎   | 63/100 [00:06<00:04,  8.90it/s]\n",
      "Task 2:  63%|██████▎   | 63/100 [00:06<00:04,  8.88it/s]\u001B[A\n",
      "\n",
      "Task 1:  64%|██████▍   | 64/100 [00:06<00:04,  8.90it/s]\n",
      "Task 2:  64%|██████▍   | 64/100 [00:06<00:04,  8.92it/s]\u001B[A\n",
      "\n",
      "Task 1:  65%|██████▌   | 65/100 [00:07<00:03,  9.11it/s]\n",
      "Task 2:  65%|██████▌   | 65/100 [00:07<00:03,  9.09it/s]\u001B[A\n",
      "\n",
      "Task 1:  66%|██████▌   | 66/100 [00:07<00:03,  8.80it/s]\n",
      "Task 2:  66%|██████▌   | 66/100 [00:07<00:03,  8.74it/s]\u001B[A\n",
      "\n",
      "Task 1:  67%|██████▋   | 67/100 [00:07<00:03,  8.80it/s]\n",
      "Task 2:  67%|██████▋   | 67/100 [00:07<00:03,  8.74it/s]\u001B[A\n",
      "\n",
      "Task 1:  68%|██████▊   | 68/100 [00:07<00:03,  8.87it/s]\n",
      "Task 2:  68%|██████▊   | 68/100 [00:07<00:03,  8.91it/s]\u001B[A\n",
      "\n",
      "Task 1:  69%|██████▉   | 69/100 [00:07<00:03,  8.87it/s]\n",
      "Task 2:  69%|██████▉   | 69/100 [00:07<00:03,  8.92it/s]\u001B[A\n",
      "\n",
      "Task 1:  70%|███████   | 70/100 [00:07<00:03,  8.84it/s]\n",
      "Task 2:  70%|███████   | 70/100 [00:07<00:03,  8.78it/s]\u001B[A\n",
      "\n",
      "Task 1:  71%|███████   | 71/100 [00:07<00:03,  8.43it/s]\n",
      "Task 2:  71%|███████   | 71/100 [00:07<00:03,  8.45it/s]\u001B[A\n",
      "\n",
      "Task 1:  72%|███████▏  | 72/100 [00:07<00:03,  8.51it/s]\n",
      "Task 2:  72%|███████▏  | 72/100 [00:07<00:03,  8.31it/s]\u001B[A\n",
      "\n",
      "Task 1:  73%|███████▎  | 73/100 [00:07<00:03,  8.26it/s]\n",
      "Task 2:  73%|███████▎  | 73/100 [00:07<00:03,  8.31it/s]\u001B[A\n",
      "\n",
      "Task 1:  74%|███████▍  | 74/100 [00:08<00:03,  8.44it/s]\n",
      "Task 2:  74%|███████▍  | 74/100 [00:08<00:03,  8.50it/s]\u001B[A\n",
      "\n",
      "Task 1:  75%|███████▌  | 75/100 [00:08<00:02,  8.53it/s]\n",
      "Task 2:  75%|███████▌  | 75/100 [00:08<00:02,  8.57it/s]\u001B[A\n",
      "\n",
      "Task 1:  76%|███████▌  | 76/100 [00:08<00:02,  8.53it/s]\n",
      "Task 2:  76%|███████▌  | 76/100 [00:08<00:02,  8.58it/s]\u001B[A\n",
      "\n",
      "Task 1:  77%|███████▋  | 77/100 [00:08<00:02,  8.79it/s]\n",
      "Task 2:  77%|███████▋  | 77/100 [00:08<00:02,  8.76it/s]\u001B[A\n",
      "\n",
      "Task 1:  78%|███████▊  | 78/100 [00:08<00:02,  8.77it/s]\n",
      "Task 2:  78%|███████▊  | 78/100 [00:08<00:02,  8.81it/s]\u001B[A\n",
      "\n",
      "Task 1:  79%|███████▉  | 79/100 [00:08<00:02,  8.81it/s]\n",
      "Task 2:  79%|███████▉  | 79/100 [00:08<00:02,  8.80it/s]\u001B[A\n",
      "\n",
      "Task 1:  80%|████████  | 80/100 [00:08<00:02,  8.84it/s]\n",
      "Task 2:  80%|████████  | 80/100 [00:08<00:02,  8.88it/s]\u001B[A\n",
      "\n",
      "Task 1:  81%|████████  | 81/100 [00:08<00:02,  9.04it/s]\n",
      "Task 2:  81%|████████  | 81/100 [00:08<00:02,  9.06it/s]\u001B[A\n",
      "\n",
      "Task 1:  82%|████████▏ | 82/100 [00:08<00:01,  9.18it/s]\n",
      "Task 2:  82%|████████▏ | 82/100 [00:08<00:01,  9.20it/s]\u001B[A\n",
      "\n",
      "Task 1:  83%|████████▎ | 83/100 [00:09<00:01,  9.13it/s]\n",
      "Task 2:  83%|████████▎ | 83/100 [00:09<00:01,  9.11it/s]\u001B[A\n",
      "\n",
      "Task 1:  84%|████████▍ | 84/100 [00:09<00:01,  9.11it/s]\n",
      "Task 2:  84%|████████▍ | 84/100 [00:09<00:01,  9.11it/s]\u001B[A\n",
      "\n",
      "Task 1:  85%|████████▌ | 85/100 [00:09<00:01,  9.07it/s]\n",
      "Task 2:  85%|████████▌ | 85/100 [00:09<00:01,  9.09it/s]\u001B[A\n",
      "\n",
      "Task 1:  86%|████████▌ | 86/100 [00:09<00:01,  9.13it/s]\n",
      "Task 2:  86%|████████▌ | 86/100 [00:09<00:01,  9.17it/s]\u001B[A\n",
      "\n",
      "Task 1:  87%|████████▋ | 87/100 [00:09<00:01,  9.26it/s]\n",
      "Task 2:  87%|████████▋ | 87/100 [00:09<00:01,  9.23it/s]\u001B[A\n",
      "\n",
      "Task 1:  88%|████████▊ | 88/100 [00:09<00:01,  9.14it/s]\n",
      "Task 2:  88%|████████▊ | 88/100 [00:09<00:01,  9.11it/s]\u001B[A\n",
      "\n",
      "Task 1:  89%|████████▉ | 89/100 [00:09<00:01,  9.10it/s]\n",
      "Task 2:  89%|████████▉ | 89/100 [00:09<00:01,  9.11it/s]\u001B[A\n",
      "\n",
      "Task 1:  90%|█████████ | 90/100 [00:09<00:01,  8.65it/s]\n",
      "Task 2:  90%|█████████ | 90/100 [00:09<00:01,  8.67it/s]\u001B[A\n",
      "\n",
      "Task 1:  91%|█████████ | 91/100 [00:09<00:01,  8.79it/s]\n",
      "Task 2:  91%|█████████ | 91/100 [00:09<00:01,  8.81it/s]\u001B[A\n",
      "\n",
      "Task 1:  92%|█████████▏| 92/100 [00:10<00:00,  9.00it/s]\n",
      "Task 2:  92%|█████████▏| 92/100 [00:10<00:00,  8.98it/s]\u001B[A\n",
      "\n",
      "Task 1:  93%|█████████▎| 93/100 [00:10<00:00,  8.88it/s]\n",
      "Task 2:  93%|█████████▎| 93/100 [00:10<00:00,  8.88it/s]\u001B[A\n",
      "\n",
      "Task 1:  94%|█████████▍| 94/100 [00:10<00:00,  8.83it/s]\n",
      "Task 2:  94%|█████████▍| 94/100 [00:10<00:00,  8.77it/s]\u001B[A\n",
      "\n",
      "Task 1:  95%|█████████▌| 95/100 [00:10<00:00,  8.74it/s]\n",
      "Task 2:  95%|█████████▌| 95/100 [00:10<00:00,  8.72it/s]\u001B[A\n",
      "\n",
      "Task 1:  96%|█████████▌| 96/100 [00:10<00:00,  8.57it/s]\n",
      "Task 2:  96%|█████████▌| 96/100 [00:10<00:00,  8.56it/s]\u001B[A\n",
      "\n",
      "Task 1:  97%|█████████▋| 97/100 [00:10<00:00,  8.72it/s]\n",
      "Task 2:  97%|█████████▋| 97/100 [00:10<00:00,  8.70it/s]\u001B[A\n",
      "\n",
      "Task 1:  98%|█████████▊| 98/100 [00:10<00:00,  8.73it/s]\n",
      "Task 2:  98%|█████████▊| 98/100 [00:10<00:00,  8.71it/s]\u001B[A\n",
      "\n",
      "Task 1:  99%|█████████▉| 99/100 [00:10<00:00,  8.65it/s]\n",
      "Task 2:  99%|█████████▉| 99/100 [00:10<00:00,  8.65it/s]\u001B[A\n",
      "\n",
      "Task 1: 100%|██████████| 100/100 [00:11<00:00,  8.77it/s]\n",
      "Task 2: 100%|██████████| 100/100 [00:11<00:00,  8.65it/s]\u001B[A\n",
      "\n",
      "Task 3: 100%|██████████| 100/100 [00:11<00:00,  8.97it/s]\n",
      "Task 2: 100%|██████████| 100/100 [00:11<00:00,  8.97it/s]\n",
      "Task 1: 100%|██████████| 100/100 [00:11<00:00,  8.96it/s]\n"
     ]
    }
   ],
   "execution_count": 36
  },
  {
   "cell_type": "code",
   "id": "initial_id",
   "metadata": {
    "collapsed": true,
    "ExecuteTime": {
     "end_time": "2024-08-18T22:39:17.871159Z",
     "start_time": "2024-08-18T22:39:12.375757Z"
    }
   },
   "source": [
    "outer_items = range(5)\n",
    "inner_items = range(10)\n",
    "\n",
    "with tqdm(total=len(outer_items), desc=\"Outer Loop\", position=0) as outer_bar:\n",
    "    for i in outer_items:\n",
    "        with tqdm(total=len(inner_items), desc=\"Inner Loop\") as inner_bar:\n",
    "            for j in inner_items:\n",
    "                if j % 2 and i == 1:\n",
    "                    print('something')\n",
    "                time.sleep(0.1)\n",
    "                inner_bar.update(1)\n",
    "        outer_bar.update(1)"
   ],
   "outputs": [
    {
     "data": {
      "text/plain": [
       "Outer Loop:   0%|          | 0/5 [00:00<?, ?it/s]"
      ],
      "application/vnd.jupyter.widget-view+json": {
       "version_major": 2,
       "version_minor": 0,
       "model_id": "8e64aac5935d455a894503a7e6176f87"
      }
     },
     "metadata": {},
     "output_type": "display_data"
    },
    {
     "data": {
      "text/plain": [
       "Inner Loop:   0%|          | 0/10 [00:00<?, ?it/s]"
      ],
      "application/vnd.jupyter.widget-view+json": {
       "version_major": 2,
       "version_minor": 0,
       "model_id": "cc2e624de12d4b7daf702aaa5fcadccf"
      }
     },
     "metadata": {},
     "output_type": "display_data"
    },
    {
     "data": {
      "text/plain": [
       "Inner Loop:   0%|          | 0/10 [00:00<?, ?it/s]"
      ],
      "application/vnd.jupyter.widget-view+json": {
       "version_major": 2,
       "version_minor": 0,
       "model_id": "793e5186dc45416b82f8bf3e478f9359"
      }
     },
     "metadata": {},
     "output_type": "display_data"
    },
    {
     "name": "stdout",
     "output_type": "stream",
     "text": [
      "something\n",
      "something\n",
      "something\n",
      "something\n",
      "something\n"
     ]
    },
    {
     "data": {
      "text/plain": [
       "Inner Loop:   0%|          | 0/10 [00:00<?, ?it/s]"
      ],
      "application/vnd.jupyter.widget-view+json": {
       "version_major": 2,
       "version_minor": 0,
       "model_id": "4d649864e1154a9c909f9dde3b72d150"
      }
     },
     "metadata": {},
     "output_type": "display_data"
    },
    {
     "data": {
      "text/plain": [
       "Inner Loop:   0%|          | 0/10 [00:00<?, ?it/s]"
      ],
      "application/vnd.jupyter.widget-view+json": {
       "version_major": 2,
       "version_minor": 0,
       "model_id": "ecb14ce9a5e344bbb48889f823f40052"
      }
     },
     "metadata": {},
     "output_type": "display_data"
    },
    {
     "data": {
      "text/plain": [
       "Inner Loop:   0%|          | 0/10 [00:00<?, ?it/s]"
      ],
      "application/vnd.jupyter.widget-view+json": {
       "version_major": 2,
       "version_minor": 0,
       "model_id": "757c502a356242c0b6b092b0e3816300"
      }
     },
     "metadata": {},
     "output_type": "display_data"
    }
   ],
   "execution_count": 35
  }
 ],
 "metadata": {
  "kernelspec": {
   "display_name": "Python 3",
   "language": "python",
   "name": "python3"
  },
  "language_info": {
   "codemirror_mode": {
    "name": "ipython",
    "version": 2
   },
   "file_extension": ".py",
   "mimetype": "text/x-python",
   "name": "python",
   "nbconvert_exporter": "python",
   "pygments_lexer": "ipython2",
   "version": "2.7.6"
  }
 },
 "nbformat": 4,
 "nbformat_minor": 5
}
