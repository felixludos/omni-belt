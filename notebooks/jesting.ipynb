{
 "cells": [
  {
   "metadata": {
    "ExecuteTime": {
     "end_time": "2024-08-18T06:40:46.331602Z",
     "start_time": "2024-08-18T06:40:45.545901Z"
    }
   },
   "cell_type": "code",
   "source": [
    "from pathlib import Path\n",
    "from omnibelt.jester import view, select, batchify, AutoFileJester\n",
    "import pandas as pd"
   ],
   "id": "a9ff8ae770f4ff9b",
   "outputs": [],
   "execution_count": 1
  },
  {
   "metadata": {
    "ExecuteTime": {
     "end_time": "2024-08-18T06:40:46.340074Z",
     "start_time": "2024-08-18T06:40:46.333647Z"
    }
   },
   "cell_type": "code",
   "source": [
    "datadir = Path(r'C:/Users/anwan/OneDrive/Khan/research/alphageometry/data/old')\n",
    "# paths = list(datadir.glob('*.csv'))\n",
    "# len(paths)"
   ],
   "id": "fe8d3f88dc5a65d2",
   "outputs": [],
   "execution_count": 2
  },
  {
   "metadata": {
    "ExecuteTime": {
     "end_time": "2024-08-18T06:41:43.518068Z",
     "start_time": "2024-08-18T06:41:43.510235Z"
    }
   },
   "cell_type": "code",
   "source": [
    "jst = AutoFileJester(datadir, 'csv')\n",
    "# jst = AutoFileJester(datadir / '*.csv')\n",
    "jst"
   ],
   "id": "fb07a356c9596bc2",
   "outputs": [
    {
     "data": {
      "text/plain": [
       "[10/10 paths in C:\\Users\\anwan\\OneDrive\\Khan\\research\\alphageometry\\data\\old]"
      ]
     },
     "execution_count": 5,
     "metadata": {},
     "output_type": "execute_result"
    }
   ],
   "execution_count": 5
  },
  {
   "metadata": {
    "ExecuteTime": {
     "end_time": "2024-08-18T08:17:53.467691Z",
     "start_time": "2024-08-18T08:17:53.464077Z"
    }
   },
   "cell_type": "code",
   "source": [
    "from tqdm.notebook import tqdm\n",
    "import time"
   ],
   "id": "dbec2658026fb7a3",
   "outputs": [],
   "execution_count": 3
  },
  {
   "metadata": {
    "ExecuteTime": {
     "end_time": "2024-08-18T06:49:50.126229Z",
     "start_time": "2024-08-18T06:49:42.311292Z"
    }
   },
   "cell_type": "code",
   "source": [
    "# Outer loop\n",
    "for i in tqdm(range(5), desc=\"Outer Loop\"):\n",
    "    # Inner loop\n",
    "    for j in tqdm(range(3), desc=f\"Inner Loop {i+1}\", leave=False):\n",
    "        time.sleep(0.5)  # Simulate some work\n"
   ],
   "id": "c40656c83e081287",
   "outputs": [
    {
     "data": {
      "text/plain": [
       "Outer Loop:   0%|          | 0/5 [00:00<?, ?it/s]"
      ],
      "application/vnd.jupyter.widget-view+json": {
       "version_major": 2,
       "version_minor": 0,
       "model_id": "e8af49daf3c641eab2819783ffb14019"
      }
     },
     "metadata": {},
     "output_type": "display_data"
    },
    {
     "data": {
      "text/plain": [
       "Inner Loop 1:   0%|          | 0/3 [00:00<?, ?it/s]"
      ],
      "application/vnd.jupyter.widget-view+json": {
       "version_major": 2,
       "version_minor": 0,
       "model_id": "ea466185676345c982b8dc32747773ed"
      }
     },
     "metadata": {},
     "output_type": "display_data"
    },
    {
     "data": {
      "text/plain": [
       "Inner Loop 2:   0%|          | 0/3 [00:00<?, ?it/s]"
      ],
      "application/vnd.jupyter.widget-view+json": {
       "version_major": 2,
       "version_minor": 0,
       "model_id": "daf3b9844db04992a3d17279fa7dd675"
      }
     },
     "metadata": {},
     "output_type": "display_data"
    },
    {
     "data": {
      "text/plain": [
       "Inner Loop 3:   0%|          | 0/3 [00:00<?, ?it/s]"
      ],
      "application/vnd.jupyter.widget-view+json": {
       "version_major": 2,
       "version_minor": 0,
       "model_id": "14e3b1208484477abc8ce6ae74c558c9"
      }
     },
     "metadata": {},
     "output_type": "display_data"
    },
    {
     "data": {
      "text/plain": [
       "Inner Loop 4:   0%|          | 0/3 [00:00<?, ?it/s]"
      ],
      "application/vnd.jupyter.widget-view+json": {
       "version_major": 2,
       "version_minor": 0,
       "model_id": "100a429dc11c45f192a01cb34b79bba3"
      }
     },
     "metadata": {},
     "output_type": "display_data"
    },
    {
     "data": {
      "text/plain": [
       "Inner Loop 5:   0%|          | 0/3 [00:00<?, ?it/s]"
      ],
      "application/vnd.jupyter.widget-view+json": {
       "version_major": 2,
       "version_minor": 0,
       "model_id": "bf37d858c5e24b8b87147262ac5ca959"
      }
     },
     "metadata": {},
     "output_type": "display_data"
    }
   ],
   "execution_count": 6
  },
  {
   "metadata": {
    "ExecuteTime": {
     "end_time": "2024-08-18T08:20:14.293098Z",
     "start_time": "2024-08-18T08:20:12.208131Z"
    }
   },
   "cell_type": "code",
   "source": [
    "for x in tqdm(range(10)):\n",
    "    time.sleep(0.2)"
   ],
   "id": "c7687d7ee2154474",
   "outputs": [
    {
     "data": {
      "text/plain": [
       "  0%|          | 0/10 [00:00<?, ?it/s]"
      ],
      "application/vnd.jupyter.widget-view+json": {
       "version_major": 2,
       "version_minor": 0,
       "model_id": "0cd2ed0b69a14a4b8f361c65d180c0f7"
      }
     },
     "metadata": {},
     "output_type": "display_data"
    }
   ],
   "execution_count": 5
  },
  {
   "metadata": {},
   "cell_type": "code",
   "outputs": [],
   "execution_count": null,
   "source": "",
   "id": "2a4f4a8780eaf73b"
  },
  {
   "metadata": {
    "ExecuteTime": {
     "end_time": "2024-08-18T09:33:00.593929Z",
     "start_time": "2024-08-18T09:33:00.343111Z"
    }
   },
   "cell_type": "code",
   "source": [
    "import time\n",
    "from omnibelt.jester import view, select, batchify, AutoFileJester, where_am_i, ProgressBar"
   ],
   "id": "320c6d2ed349a400",
   "outputs": [],
   "execution_count": 1
  },
  {
   "metadata": {
    "ExecuteTime": {
     "end_time": "2024-08-18T09:34:52.274633Z",
     "start_time": "2024-08-18T09:33:27.327609Z"
    }
   },
   "cell_type": "code",
   "source": [
    "pbar = ProgressBar()\n",
    "\n",
    "for x in pbar.push(10, seeder=lambda x: 'abcde'):\n",
    "    time.sleep(0.2)\n",
    "    # print(x, end=None)\n"
   ],
   "id": "f432a71586c60c10",
   "outputs": [
    {
     "data": {
      "text/plain": [
       "  0%|          | 0/10 [00:00<?, ?it/s]"
      ],
      "application/vnd.jupyter.widget-view+json": {
       "version_major": 2,
       "version_minor": 0,
       "model_id": "9c96af522840460ebb6b01dd8168762c"
      }
     },
     "metadata": {},
     "output_type": "display_data"
    },
    {
     "data": {
      "text/plain": [
       "  0%|          | 0/5 [00:00<?, ?it/s]"
      ],
      "application/vnd.jupyter.widget-view+json": {
       "version_major": 2,
       "version_minor": 0,
       "model_id": "a2c9affdd9034741b5ad270f7ab0895e"
      }
     },
     "metadata": {},
     "output_type": "display_data"
    },
    {
     "data": {
      "text/plain": [
       "  0%|          | 0/5 [00:00<?, ?it/s]"
      ],
      "application/vnd.jupyter.widget-view+json": {
       "version_major": 2,
       "version_minor": 0,
       "model_id": "3d90e3b7f0444ce38d7ee5684c8c4b30"
      }
     },
     "metadata": {},
     "output_type": "display_data"
    },
    {
     "data": {
      "text/plain": [
       "  0%|          | 0/5 [00:00<?, ?it/s]"
      ],
      "application/vnd.jupyter.widget-view+json": {
       "version_major": 2,
       "version_minor": 0,
       "model_id": "a09503c1b27146f298857bb26518bf1f"
      }
     },
     "metadata": {},
     "output_type": "display_data"
    },
    {
     "data": {
      "text/plain": [
       "  0%|          | 0/5 [00:00<?, ?it/s]"
      ],
      "application/vnd.jupyter.widget-view+json": {
       "version_major": 2,
       "version_minor": 0,
       "model_id": "82ec4637b52f48a195fce228b8339e1e"
      }
     },
     "metadata": {},
     "output_type": "display_data"
    },
    {
     "data": {
      "text/plain": [
       "  0%|          | 0/5 [00:00<?, ?it/s]"
      ],
      "application/vnd.jupyter.widget-view+json": {
       "version_major": 2,
       "version_minor": 0,
       "model_id": "36810ccaf1cc424392246eb86031f572"
      }
     },
     "metadata": {},
     "output_type": "display_data"
    },
    {
     "data": {
      "text/plain": [
       "  0%|          | 0/5 [00:00<?, ?it/s]"
      ],
      "application/vnd.jupyter.widget-view+json": {
       "version_major": 2,
       "version_minor": 0,
       "model_id": "6ffd1b4badd74b3da9228dbe52914381"
      }
     },
     "metadata": {},
     "output_type": "display_data"
    },
    {
     "data": {
      "text/plain": [
       "  0%|          | 0/5 [00:00<?, ?it/s]"
      ],
      "application/vnd.jupyter.widget-view+json": {
       "version_major": 2,
       "version_minor": 0,
       "model_id": "c63f4869dde74bac93af3335330340ef"
      }
     },
     "metadata": {},
     "output_type": "display_data"
    },
    {
     "data": {
      "text/plain": [
       "  0%|          | 0/5 [00:00<?, ?it/s]"
      ],
      "application/vnd.jupyter.widget-view+json": {
       "version_major": 2,
       "version_minor": 0,
       "model_id": "d9ea60f4a2354ca9b04b797e8cc7147d"
      }
     },
     "metadata": {},
     "output_type": "display_data"
    },
    {
     "data": {
      "text/plain": [
       "  0%|          | 0/5 [00:00<?, ?it/s]"
      ],
      "application/vnd.jupyter.widget-view+json": {
       "version_major": 2,
       "version_minor": 0,
       "model_id": "f9879aa076aa418591079e825ff4a37f"
      }
     },
     "metadata": {},
     "output_type": "display_data"
    },
    {
     "data": {
      "text/plain": [
       "  0%|          | 0/5 [00:00<?, ?it/s]"
      ],
      "application/vnd.jupyter.widget-view+json": {
       "version_major": 2,
       "version_minor": 0,
       "model_id": "b097cf79797448769fe302f0f639b5c0"
      }
     },
     "metadata": {},
     "output_type": "display_data"
    }
   ],
   "execution_count": 2
  },
  {
   "metadata": {},
   "cell_type": "code",
   "outputs": [],
   "execution_count": null,
   "source": "",
   "id": "3d1035a6a3e760f0"
  },
  {
   "cell_type": "code",
   "execution_count": null,
   "id": "initial_id",
   "metadata": {
    "collapsed": true
   },
   "outputs": [],
   "source": [
    ""
   ]
  }
 ],
 "metadata": {
  "kernelspec": {
   "display_name": "Python 3",
   "language": "python",
   "name": "python3"
  },
  "language_info": {
   "codemirror_mode": {
    "name": "ipython",
    "version": 2
   },
   "file_extension": ".py",
   "mimetype": "text/x-python",
   "name": "python",
   "nbconvert_exporter": "python",
   "pygments_lexer": "ipython2",
   "version": "2.7.6"
  }
 },
 "nbformat": 4,
 "nbformat_minor": 5
}
