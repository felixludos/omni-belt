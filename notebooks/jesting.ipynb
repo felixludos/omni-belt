{
 "cells": [
  {
   "metadata": {
    "ExecuteTime": {
     "end_time": "2024-08-18T06:40:46.331602Z",
     "start_time": "2024-08-18T06:40:45.545901Z"
    }
   },
   "cell_type": "code",
   "source": [
    "from pathlib import Path\n",
    "from omnibelt.jester import view, select, batchify, AutoFileJester\n",
    "import pandas as pd"
   ],
   "id": "a9ff8ae770f4ff9b",
   "outputs": [],
   "execution_count": 1
  },
  {
   "metadata": {
    "ExecuteTime": {
     "end_time": "2024-08-18T06:40:46.340074Z",
     "start_time": "2024-08-18T06:40:46.333647Z"
    }
   },
   "cell_type": "code",
   "source": [
    "datadir = Path(r'C:/Users/anwan/OneDrive/Khan/research/alphageometry/data/old')\n",
    "# paths = list(datadir.glob('*.csv'))\n",
    "# len(paths)"
   ],
   "id": "fe8d3f88dc5a65d2",
   "outputs": [],
   "execution_count": 2
  },
  {
   "metadata": {
    "ExecuteTime": {
     "end_time": "2024-08-18T06:41:43.518068Z",
     "start_time": "2024-08-18T06:41:43.510235Z"
    }
   },
   "cell_type": "code",
   "source": [
    "jst = AutoFileJester(datadir, 'csv')\n",
    "# jst = AutoFileJester(datadir / '*.csv')\n",
    "jst"
   ],
   "id": "fb07a356c9596bc2",
   "outputs": [
    {
     "data": {
      "text/plain": [
       "[10/10 paths in C:\\Users\\anwan\\OneDrive\\Khan\\research\\alphageometry\\data\\old]"
      ]
     },
     "execution_count": 5,
     "metadata": {},
     "output_type": "execute_result"
    }
   ],
   "execution_count": 5
  },
  {
   "metadata": {
    "ExecuteTime": {
     "end_time": "2024-08-18T06:41:03.863972Z",
     "start_time": "2024-08-18T06:41:03.861246Z"
    }
   },
   "cell_type": "code",
   "source": "",
   "id": "c40656c83e081287",
   "outputs": [],
   "execution_count": 4
  },
  {
   "metadata": {},
   "cell_type": "code",
   "outputs": [],
   "execution_count": null,
   "source": "",
   "id": "c7687d7ee2154474"
  },
  {
   "cell_type": "code",
   "execution_count": null,
   "id": "initial_id",
   "metadata": {
    "collapsed": true
   },
   "outputs": [],
   "source": [
    ""
   ]
  }
 ],
 "metadata": {
  "kernelspec": {
   "display_name": "Python 3",
   "language": "python",
   "name": "python3"
  },
  "language_info": {
   "codemirror_mode": {
    "name": "ipython",
    "version": 2
   },
   "file_extension": ".py",
   "mimetype": "text/x-python",
   "name": "python",
   "nbconvert_exporter": "python",
   "pygments_lexer": "ipython2",
   "version": "2.7.6"
  }
 },
 "nbformat": 4,
 "nbformat_minor": 5
}
