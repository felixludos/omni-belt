{
 "cells": [
  {
   "cell_type": "code",
   "execution_count": 3,
   "metadata": {},
   "outputs": [],
   "source": []
  },
  {
   "cell_type": "code",
   "execution_count": 2,
   "metadata": {},
   "outputs": [
    {
     "data": {
      "application/vnd.jupyter.widget-view+json": {
       "model_id": "b72b5678ce1d479dbc9daf8047293891",
       "version_major": 2,
       "version_minor": 0
      },
      "text/plain": [
       "outer:   0%|          | 0/10 [00:00<?, ?it/s]"
      ]
     },
     "metadata": {},
     "output_type": "display_data"
    },
    {
     "data": {
      "application/vnd.jupyter.widget-view+json": {
       "model_id": "a7553f9168a649edb062ee652719643d",
       "version_major": 2,
       "version_minor": 0
      },
      "text/plain": [
       "inner:   0%|          | 0/10 [00:00<?, ?it/s]"
      ]
     },
     "metadata": {},
     "output_type": "display_data"
    },
    {
     "data": {
      "application/vnd.jupyter.widget-view+json": {
       "model_id": "8e0840eeedac49afa5e5f7f203939913",
       "version_major": 2,
       "version_minor": 0
      },
      "text/plain": [
       "inner:   0%|          | 0/10 [00:00<?, ?it/s]"
      ]
     },
     "metadata": {},
     "output_type": "display_data"
    },
    {
     "data": {
      "application/vnd.jupyter.widget-view+json": {
       "model_id": "e9fce14eeebe44c4bee2e8fc9e240c51",
       "version_major": 2,
       "version_minor": 0
      },
      "text/plain": [
       "inner:   0%|          | 0/10 [00:00<?, ?it/s]"
      ]
     },
     "metadata": {},
     "output_type": "display_data"
    },
    {
     "data": {
      "application/vnd.jupyter.widget-view+json": {
       "model_id": "11ae23b9e0bb4e12b52698fdd4a92f66",
       "version_major": 2,
       "version_minor": 0
      },
      "text/plain": [
       "inner:   0%|          | 0/10 [00:00<?, ?it/s]"
      ]
     },
     "metadata": {},
     "output_type": "display_data"
    },
    {
     "data": {
      "application/vnd.jupyter.widget-view+json": {
       "model_id": "c11d08e13f79413f9fb9bd54c040e7f8",
       "version_major": 2,
       "version_minor": 0
      },
      "text/plain": [
       "inner:   0%|          | 0/10 [00:00<?, ?it/s]"
      ]
     },
     "metadata": {},
     "output_type": "display_data"
    },
    {
     "data": {
      "application/vnd.jupyter.widget-view+json": {
       "model_id": "dd0a4b6370084d10b4bbacc5a97b06bd",
       "version_major": 2,
       "version_minor": 0
      },
      "text/plain": [
       "inner:   0%|          | 0/10 [00:00<?, ?it/s]"
      ]
     },
     "metadata": {},
     "output_type": "display_data"
    },
    {
     "data": {
      "application/vnd.jupyter.widget-view+json": {
       "model_id": "f9161f41c5b6436f88e446398b333ccb",
       "version_major": 2,
       "version_minor": 0
      },
      "text/plain": [
       "inner:   0%|          | 0/10 [00:00<?, ?it/s]"
      ]
     },
     "metadata": {},
     "output_type": "display_data"
    },
    {
     "data": {
      "application/vnd.jupyter.widget-view+json": {
       "model_id": "a99507f7003b46e4b38b02ca47f9e3a3",
       "version_major": 2,
       "version_minor": 0
      },
      "text/plain": [
       "inner:   0%|          | 0/10 [00:00<?, ?it/s]"
      ]
     },
     "metadata": {},
     "output_type": "display_data"
    },
    {
     "data": {
      "application/vnd.jupyter.widget-view+json": {
       "model_id": "09d9cb6268044226bcb929b7e56f93c6",
       "version_major": 2,
       "version_minor": 0
      },
      "text/plain": [
       "inner:   0%|          | 0/10 [00:00<?, ?it/s]"
      ]
     },
     "metadata": {},
     "output_type": "display_data"
    },
    {
     "data": {
      "application/vnd.jupyter.widget-view+json": {
       "model_id": "6ea5ace37f5c4129ac4187fe608ab032",
       "version_major": 2,
       "version_minor": 0
      },
      "text/plain": [
       "inner:   0%|          | 0/10 [00:00<?, ?it/s]"
      ]
     },
     "metadata": {},
     "output_type": "display_data"
    }
   ],
   "source": [
    "from tqdm.notebook import tqdm\n",
    "import time\n",
    "\n",
    "for x in tqdm(range(10), desc='outer'):\n",
    "    for y in tqdm(range(10), desc='inner', leave=False):\n",
    "        time.sleep(0.1)"
   ]
  },
  {
   "cell_type": "code",
   "execution_count": 3,
   "metadata": {},
   "outputs": [
    {
     "name": "stdout",
     "output_type": "stream",
     "text": [
      "Running in a Jupyter notebook\n"
     ]
    }
   ],
   "source": [
    "def in_jupyter():\n",
    "    try:\n",
    "        from IPython import get_ipython\n",
    "        if 'IPKernelApp' in get_ipython().config: \n",
    "            return True\n",
    "    except:\n",
    "        return False\n",
    "    return False\n",
    "\n",
    "# Example usage:\n",
    "if in_jupyter():\n",
    "    print(\"Running in a Jupyter notebook\")\n",
    "else:\n",
    "    print(\"Running in a regular Python script\")\n"
   ]
  },
  {
   "cell_type": "code",
   "execution_count": 21,
   "metadata": {},
   "outputs": [],
   "source": [
    "from pathlib import Path"
   ]
  },
  {
   "cell_type": "code",
   "execution_count": 22,
   "metadata": {},
   "outputs": [
    {
     "data": {
      "text/plain": [
       "WindowsPath('test/*/something*.txt')"
      ]
     },
     "execution_count": 22,
     "metadata": {},
     "output_type": "execute_result"
    }
   ],
   "source": [
    "path = Path('test/*/something*.txt')\n",
    "path"
   ]
  },
  {
   "cell_type": "code",
   "execution_count": 28,
   "metadata": {},
   "outputs": [
    {
     "data": {
      "text/plain": [
       "WindowsPath('c:/Users/anwan/OneDrive/Khan/research/belt/notebooks/test/*/something*.txt')"
      ]
     },
     "execution_count": 28,
     "metadata": {},
     "output_type": "execute_result"
    }
   ],
   "source": [
    "pabs = path.expanduser().absolute()\n",
    "pabs"
   ]
  },
  {
   "cell_type": "code",
   "execution_count": 32,
   "metadata": {},
   "outputs": [
    {
     "data": {
      "text/plain": [
       "False"
      ]
     },
     "execution_count": 32,
     "metadata": {},
     "output_type": "execute_result"
    }
   ],
   "source": [
    "Path('../extra/*').exists()"
   ]
  },
  {
   "cell_type": "code",
   "execution_count": 27,
   "metadata": {},
   "outputs": [
    {
     "data": {
      "text/plain": [
       "WindowsPath('c:/Users/anwan/OneDrive/Khan/research/belt/notebooks')"
      ]
     },
     "execution_count": 27,
     "metadata": {},
     "output_type": "execute_result"
    }
   ],
   "source": [
    "# largest root\n",
    "def _is_valid(path):\n",
    "    return path if path.exists() else _is_valid(path.parent)\n",
    "_is_valid(pabs)"
   ]
  },
  {
   "cell_type": "code",
   "execution_count": 33,
   "metadata": {},
   "outputs": [],
   "source": [
    "from itertools import chain"
   ]
  },
  {
   "cell_type": "code",
   "execution_count": 35,
   "metadata": {},
   "outputs": [
    {
     "data": {
      "text/plain": [
       "[0, 0, 1, 1, 2, 2, 3, 3, 4, 4, 5, 5, 6, 6, 7, 7, 8, 8, 9, 9]"
      ]
     },
     "execution_count": 35,
     "metadata": {},
     "output_type": "execute_result"
    }
   ],
   "source": [
    "sorted(chain(range(10), range(10)))"
   ]
  },
  {
   "cell_type": "code",
   "execution_count": null,
   "metadata": {},
   "outputs": [],
   "source": []
  },
  {
   "cell_type": "code",
   "execution_count": null,
   "metadata": {},
   "outputs": [],
   "source": []
  },
  {
   "cell_type": "code",
   "execution_count": null,
   "metadata": {},
   "outputs": [],
   "source": []
  },
  {
   "cell_type": "code",
   "execution_count": null,
   "metadata": {},
   "outputs": [],
   "source": []
  },
  {
   "cell_type": "code",
   "execution_count": 14,
   "metadata": {},
   "outputs": [
    {
     "name": "stderr",
     "output_type": "stream",
     "text": [
      "  0%|          | 0/10 [00:00<?, ?it/s]"
     ]
    }
   ],
   "source": [
    "itr = tqdm(range(10))"
   ]
  },
  {
   "cell_type": "code",
   "execution_count": 19,
   "metadata": {},
   "outputs": [
    {
     "name": "stderr",
     "output_type": "stream",
     "text": [
      " 15%|█▌        | 3/20 [00:46<04:15, 15.04s/it]"
     ]
    },
    {
     "data": {
      "text/plain": [
       "True"
      ]
     },
     "execution_count": 19,
     "metadata": {},
     "output_type": "execute_result"
    }
   ],
   "source": [
    "itr.update()"
   ]
  },
  {
   "cell_type": "code",
   "execution_count": 13,
   "metadata": {},
   "outputs": [
    {
     "name": "stderr",
     "output_type": "stream",
     "text": [
      " 20%|██        | 2/10 [00:00<00:00,  9.80it/s]"
     ]
    },
    {
     "name": "stdout",
     "output_type": "stream",
     "text": [
      "Step 1/10\n",
      "Step 2/10\n",
      "Step 3/10\n"
     ]
    },
    {
     "name": "stderr",
     "output_type": "stream",
     "text": [
      " 50%|█████     | 5/10 [00:00<00:00,  9.55it/s]"
     ]
    },
    {
     "name": "stdout",
     "output_type": "stream",
     "text": [
      "Step 4/10\n",
      "Step 5/10\n"
     ]
    },
    {
     "name": "stderr",
     "output_type": "stream",
     "text": [
      " 70%|███████   | 7/10 [00:00<00:00,  9.56it/s]"
     ]
    },
    {
     "name": "stdout",
     "output_type": "stream",
     "text": [
      "Step 6/10\n",
      "Step 7/10\n"
     ]
    },
    {
     "name": "stderr",
     "output_type": "stream",
     "text": [
      " 90%|█████████ | 9/10 [00:00<00:00,  9.58it/s]"
     ]
    },
    {
     "name": "stdout",
     "output_type": "stream",
     "text": [
      "Step 8/10\n",
      "Step 9/10\n"
     ]
    },
    {
     "name": "stderr",
     "output_type": "stream",
     "text": [
      "100%|██████████| 10/10 [00:01<00:00,  9.50it/s]"
     ]
    },
    {
     "name": "stdout",
     "output_type": "stream",
     "text": [
      "Step 10/10\n"
     ]
    },
    {
     "name": "stderr",
     "output_type": "stream",
     "text": [
      "\n"
     ]
    }
   ],
   "source": [
    "from tqdm import tqdm\n",
    "import time\n",
    "\n",
    "# Example function to mimic a process with a progress bar\n",
    "def process_with_tqdm(total_steps):\n",
    "    for i in tqdm(range(total_steps)):\n",
    "        time.sleep(0.1)  # Simulating work by sleeping for 0.1 seconds\n",
    "        progress = f\"Step {i+1}/{total_steps}\"\n",
    "        print(progress)\n",
    "\n",
    "# Call the function with the desired number of steps\n",
    "process_with_tqdm(10)\n"
   ]
  },
  {
   "cell_type": "code",
   "execution_count": 5,
   "metadata": {},
   "outputs": [],
   "source": [
    "import io"
   ]
  },
  {
   "cell_type": "code",
   "execution_count": 12,
   "metadata": {},
   "outputs": [
    {
     "name": "stdout",
     "output_type": "stream",
     "text": [
      "  0%|          | 0/100 [00:00<?, ?it/s]Processing item 0\n",
      "Processing item 1\n",
      "Processing item 2\n",
      "Processing item 3\n",
      "Processing item 4\n",
      "Processing item 5\n",
      "Processing item 6\n",
      "Processing item 7\n",
      "Processing item 8\n",
      "Processing item 9\n",
      "Processing item 10\n",
      "Processing item 11\n",
      "Processing item 12\n",
      "Processing item 13\n",
      "Processing item 14\n",
      "Processing item 15\n",
      "Processing item 16\n",
      "Processing item 17\n",
      "Processing item 18\n",
      "Processing item 19\n",
      "Processing item 20\n",
      "Processing item 21\n",
      "Processing item 22\n",
      "Processing item 23\n",
      "Processing item 24\n",
      "Processing item 25\n",
      "Processing item 26\n",
      "Processing item 27\n",
      "Processing item 28\n",
      "Processing item 29\n",
      "Processing item 30\n",
      "Processing item 31\n",
      "Processing item 32\n",
      "Processing item 33\n",
      "Processing item 34\n",
      "Processing item 35\n",
      "Processing item 36\n",
      "Processing item 37\n",
      "Processing item 38\n",
      "Processing item 39\n",
      "Processing item 40\n",
      "Processing item 41\n",
      "Processing item 42\n",
      "Processing item 43\n",
      "Processing item 44\n",
      "Processing item 45\n",
      "Processing item 46\n",
      "Processing item 47\n",
      "Processing item 48\n",
      "Processing item 49\n",
      "Processing item 50\n",
      "Processing item 51\n",
      "Processing item 52\n",
      "Processing item 53\n",
      "Processing item 54\n",
      "Processing item 55\n",
      "Processing item 56\n",
      "Processing item 57\n",
      "Processing item 58\n",
      "Processing item 59\n",
      "Processing item 60\n",
      "Processing item 61\n",
      "Processing item 62\n",
      "Processing item 63\n",
      "Processing item 64\n",
      "Processing item 65\n",
      "Processing item 66\n",
      "Processing item 67\n",
      "Processing item 68\n",
      "Processing item 69\n",
      "Processing item 70\n",
      "Processing item 71\n",
      "Processing item 72\n",
      "Processing item 73\n",
      "Processing item 74\n",
      "Processing item 75\n",
      "Processing item 76\n",
      "Processing item 77\n",
      "Processing item 78\n",
      "Processing item 79\n",
      "Processing item 80\n",
      "Processing item 81\n",
      "Processing item 82\n",
      "Processing item 83\n",
      "Processing item 84\n",
      "Processing item 85\n",
      "Processing item 86\n",
      "Processing item 87\n",
      "Processing item 88\n",
      "Processing item 89\n",
      "Processing item 90\n",
      "Processing item 91\n",
      "Processing item 92\n",
      "Processing item 93\n",
      "Processing item 94\n",
      "Processing item 95\n",
      "Processing item 96\n",
      "Processing item 97\n",
      "Processing item 98\n",
      "Processing item 99\n",
      "100%|##########| 100/100 [00:00<?, ?it/s]\n",
      "\n"
     ]
    }
   ],
   "source": [
    "buffer = io.StringIO()\n",
    "for i in tqdm(range(100), file=buffer):\n",
    "    buffer.write(f\"Processing item {i}\\n\")\n",
    "buffer.seek(0)\n",
    "print(buffer.read())"
   ]
  },
  {
   "cell_type": "code",
   "execution_count": 11,
   "metadata": {},
   "outputs": [
    {
     "name": "stdout",
     "output_type": "stream",
     "text": [
      "\n"
     ]
    }
   ],
   "source": []
  },
  {
   "cell_type": "code",
   "execution_count": null,
   "metadata": {},
   "outputs": [],
   "source": []
  },
  {
   "cell_type": "code",
   "execution_count": null,
   "metadata": {},
   "outputs": [],
   "source": []
  },
  {
   "cell_type": "code",
   "execution_count": null,
   "metadata": {},
   "outputs": [],
   "source": []
  }
 ],
 "metadata": {
  "kernelspec": {
   "display_name": "base",
   "language": "python",
   "name": "python3"
  },
  "language_info": {
   "codemirror_mode": {
    "name": "ipython",
    "version": 3
   },
   "file_extension": ".py",
   "mimetype": "text/x-python",
   "name": "python",
   "nbconvert_exporter": "python",
   "pygments_lexer": "ipython3",
   "version": "3.12.3"
  }
 },
 "nbformat": 4,
 "nbformat_minor": 2
}
