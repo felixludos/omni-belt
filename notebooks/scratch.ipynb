{
 "cells": [
  {
   "cell_type": "code",
   "execution_count": null,
   "metadata": {
    "collapsed": true,
    "pycharm": {
     "name": "#%%\n"
    }
   },
   "outputs": [],
   "source": []
  },
  {
   "cell_type": "code",
   "execution_count": 6,
   "outputs": [
    {
     "name": "stdout",
     "output_type": "stream",
     "text": [
      "100.0\n",
      "__set__ <__main__.Temperature object at 0x7f80523fd790> 0\n",
      "32.0\n"
     ]
    }
   ],
   "source": [
    "class Celsius:\n",
    "\n",
    "    def __get__(self, instance, owner):\n",
    "        return 5 * (instance.fahrenheit - 32) / 9\n",
    "\n",
    "    def __set__(self, instance, value):\n",
    "        print('__set__', instance, value)\n",
    "        instance.fahrenheit = 32 + 9 * value / 5\n",
    "\n",
    "\n",
    "class Temperature:\n",
    "\n",
    "    celsius = Celsius()\n",
    "\n",
    "    def __init__(self, initial_f):\n",
    "        self.fahrenheit = initial_f\n",
    "\n",
    "\n",
    "t = Temperature(212)\n",
    "print(t.celsius)\n",
    "t.celsius = 0\n",
    "print(t.fahrenheit)"
   ],
   "metadata": {
    "collapsed": false,
    "pycharm": {
     "name": "#%%\n"
    }
   }
  },
  {
   "cell_type": "code",
   "execution_count": 7,
   "outputs": [],
   "source": [
    "Temperature.celsius = 'something'"
   ],
   "metadata": {
    "collapsed": false,
    "pycharm": {
     "name": "#%%\n"
    }
   }
  },
  {
   "cell_type": "code",
   "execution_count": 9,
   "outputs": [
    {
     "data": {
      "text/plain": "'something'"
     },
     "execution_count": 9,
     "metadata": {},
     "output_type": "execute_result"
    }
   ],
   "source": [
    "Temperature.__dict__['celsius']"
   ],
   "metadata": {
    "collapsed": false,
    "pycharm": {
     "name": "#%%\n"
    }
   }
  },
  {
   "cell_type": "code",
   "execution_count": 10,
   "outputs": [],
   "source": [
    "from omnibelt import defaultproperty"
   ],
   "metadata": {
    "collapsed": false,
    "pycharm": {
     "name": "#%%\n"
    }
   }
  },
  {
   "cell_type": "code",
   "execution_count": 20,
   "outputs": [
    {
     "name": "stdout",
     "output_type": "stream",
     "text": [
      "__set_name__ <class '__main__.A'> f\n",
      "__set_name__ <class '__main__.A'> g\n"
     ]
    }
   ],
   "source": [
    "class p:\n",
    "    def __init__(self, fn=None):\n",
    "        self.fn = fn\n",
    "\n",
    "    def __call__(self, fn):\n",
    "        self.fn = fn\n",
    "\n",
    "    def __set_name__(self, owner, name):\n",
    "        print('__set_name__', owner, name)\n",
    "        setattr(owner, name, self)\n",
    "\n",
    "    def __get__(self, instance, owner):\n",
    "        getter = getattr(self.fn, '__get__', None)\n",
    "        print('__get__', instance, owner, getter)\n",
    "        return self.fn if getter is None else getter(instance, owner)\n",
    "\n",
    "class A:\n",
    "\n",
    "    @p\n",
    "    def f(self):\n",
    "        return 1\n",
    "\n",
    "    g = p()\n",
    "\n",
    "    def __init__(self, x=None):\n",
    "        self.x = x\n",
    "\n",
    "# a = A(x=defaultproperty('test'))"
   ],
   "metadata": {
    "collapsed": false,
    "pycharm": {
     "name": "#%%\n"
    }
   }
  },
  {
   "cell_type": "code",
   "execution_count": 16,
   "outputs": [
    {
     "name": "stdout",
     "output_type": "stream",
     "text": [
      "__get__ None <class '__main__.A'> <method-wrapper '__get__' of function object at 0x7f8051d4f940>\n",
      "__get__ <__main__.A object at 0x7f8051c80190> <class '__main__.A'> <method-wrapper '__get__' of function object at 0x7f8051d4f940>\n"
     ]
    },
    {
     "data": {
      "text/plain": "(<function __main__.A.f(self)>,\n <bound method A.f of <__main__.A object at 0x7f8051c80190>>)"
     },
     "execution_count": 16,
     "metadata": {},
     "output_type": "execute_result"
    }
   ],
   "source": [
    "A.f, A().f"
   ],
   "metadata": {
    "collapsed": false,
    "pycharm": {
     "name": "#%%\n"
    }
   }
  },
  {
   "cell_type": "code",
   "execution_count": 18,
   "outputs": [
    {
     "data": {
      "text/plain": "<__main__.p at 0x7f80519c0df0>"
     },
     "execution_count": 18,
     "metadata": {},
     "output_type": "execute_result"
    }
   ],
   "source": [
    "p2 = p(lambda x: x)\n",
    "p2"
   ],
   "metadata": {
    "collapsed": false,
    "pycharm": {
     "name": "#%%\n"
    }
   }
  },
  {
   "cell_type": "code",
   "execution_count": 19,
   "outputs": [],
   "source": [
    "A.g = p2"
   ],
   "metadata": {
    "collapsed": false,
    "pycharm": {
     "name": "#%%\n"
    }
   }
  },
  {
   "cell_type": "code",
   "execution_count": 1,
   "outputs": [],
   "source": [
    "import omnifig as fig"
   ],
   "metadata": {
    "collapsed": false,
    "pycharm": {
     "name": "#%%\n"
    }
   }
  },
  {
   "cell_type": "code",
   "execution_count": 1,
   "outputs": [],
   "source": [
    "from omnibelt import tricks as trx"
   ],
   "metadata": {
    "collapsed": false,
    "pycharm": {
     "name": "#%%\n"
    }
   }
  },
  {
   "cell_type": "code",
   "execution_count": 2,
   "outputs": [],
   "source": [
    "t = trx.Tracer()"
   ],
   "metadata": {
    "collapsed": false,
    "pycharm": {
     "name": "#%%\n"
    }
   }
  },
  {
   "cell_type": "code",
   "execution_count": 6,
   "outputs": [
    {
     "data": {
      "text/plain": "((), (((), 'test'), 'x'))"
     },
     "execution_count": 6,
     "metadata": {},
     "output_type": "execute_result"
    }
   ],
   "source": [
    "t2 = t.append('test').append('x')\n",
    "t, t2"
   ],
   "metadata": {
    "collapsed": false,
    "pycharm": {
     "name": "#%%\n"
    }
   }
  },
  {
   "cell_type": "code",
   "execution_count": 7,
   "outputs": [
    {
     "data": {
      "text/plain": "('test', 'x')"
     },
     "execution_count": 7,
     "metadata": {},
     "output_type": "execute_result"
    }
   ],
   "source": [
    "t2.path"
   ],
   "metadata": {
    "collapsed": false,
    "pycharm": {
     "name": "#%%\n"
    }
   }
  },
  {
   "cell_type": "code",
   "execution_count": 4,
   "outputs": [],
   "source": [
    "import inspect"
   ],
   "metadata": {
    "collapsed": false,
    "pycharm": {
     "name": "#%%\n"
    }
   }
  },
  {
   "cell_type": "code",
   "execution_count": 6,
   "outputs": [],
   "source": [
    "def f(x, y=10):\n",
    "    return 'another'"
   ],
   "metadata": {
    "collapsed": false,
    "pycharm": {
     "name": "#%%\n"
    }
   }
  },
  {
   "cell_type": "code",
   "execution_count": 7,
   "outputs": [
    {
     "data": {
      "text/plain": "'(x, y=10)'"
     },
     "execution_count": 7,
     "metadata": {},
     "output_type": "execute_result"
    }
   ],
   "source": [
    "str(inspect.signature(f))"
   ],
   "metadata": {
    "collapsed": false,
    "pycharm": {
     "name": "#%%\n"
    }
   }
  },
  {
   "cell_type": "code",
   "execution_count": 1,
   "outputs": [],
   "source": [
    "from omnibelt import printc, bcolors"
   ],
   "metadata": {
    "collapsed": false,
    "pycharm": {
     "name": "#%%\n"
    }
   }
  },
  {
   "cell_type": "code",
   "execution_count": 3,
   "outputs": [
    {
     "name": "stdout",
     "output_type": "stream",
     "text": [
      "\u001B[94m\u001B[1mtest again\u001B[0m\n",
      "\u001B[94m\u001B[4mtest again\u001B[0m\n",
      "\u001B[96m\u001B[1mtest again\u001B[0m\n",
      "\u001B[96m\u001B[4mtest again\u001B[0m\n",
      "\u001B[92m\u001B[1mtest again\u001B[0m\n",
      "\u001B[92m\u001B[4mtest again\u001B[0m\n",
      "\u001B[95m\u001B[1mtest again\u001B[0m\n",
      "\u001B[95m\u001B[4mtest again\u001B[0m\n",
      "\u001B[93m\u001B[1mtest again\u001B[0m\n",
      "\u001B[93m\u001B[4mtest again\u001B[0m\n",
      "\u001B[91m\u001B[1mtest again\u001B[0m\n",
      "\u001B[91m\u001B[4mtest again\u001B[0m\n",
      "\u001B[95m\u001B[1mtest again\u001B[0m\n",
      "\u001B[95m\u001B[4mtest again\u001B[0m\n",
      "\u001B[93m\u001B[1mtest again\u001B[0m\n",
      "\u001B[93m\u001B[4mtest again\u001B[0m\n",
      "\u001B[91m\u001B[1mtest again\u001B[0m\n",
      "\u001B[91m\u001B[4mtest again\u001B[0m\n"
     ]
    }
   ],
   "source": [
    "for c in bcolors.color_table.keys():\n",
    "    for f in bcolors.fmt_table.keys():\n",
    "        printc('test', 'again', color=c, fmt=f)"
   ],
   "metadata": {
    "collapsed": false,
    "pycharm": {
     "name": "#%%\n"
    }
   }
  },
  {
   "cell_type": "code",
   "execution_count": null,
   "outputs": [],
   "source": [],
   "metadata": {
    "collapsed": false,
    "pycharm": {
     "name": "#%%\n"
    }
   }
  },
  {
   "cell_type": "code",
   "execution_count": 1,
   "outputs": [],
   "source": [
    "import sys, os\n",
    "import omnifig as fig"
   ],
   "metadata": {
    "collapsed": false,
    "pycharm": {
     "name": "#%%\n"
    }
   }
  },
  {
   "cell_type": "code",
   "execution_count": 2,
   "outputs": [
    {
     "data": {
      "text/plain": "'/is/ei/fleeb/workspace/code/omni-fig/examples/novo_deep_fake'"
     },
     "execution_count": 2,
     "metadata": {},
     "output_type": "execute_result"
    }
   ],
   "source": [
    "os.chdir('../../omni-fig/examples/novo_deep_fake')\n",
    "os.getcwd()"
   ],
   "metadata": {
    "collapsed": false,
    "pycharm": {
     "name": "#%%\n"
    }
   }
  },
  {
   "cell_type": "code",
   "execution_count": 4,
   "outputs": [
    {
     "ename": "AttributeError",
     "evalue": "'Profile' object has no attribute 'projects'",
     "output_type": "error",
     "traceback": [
      "\u001B[0;31m---------------------------------------------------------------------------\u001B[0m",
      "\u001B[0;31mAttributeError\u001B[0m                            Traceback (most recent call last)",
      "\u001B[0;32m/tmp/ipykernel_19687/2711511552.py\u001B[0m in \u001B[0;36m<module>\u001B[0;34m\u001B[0m\n\u001B[0;32m----> 1\u001B[0;31m \u001B[0mfig\u001B[0m\u001B[0;34m.\u001B[0m\u001B[0mget_profile\u001B[0m\u001B[0;34m(\u001B[0m\u001B[0;34m)\u001B[0m\u001B[0;34m.\u001B[0m\u001B[0mprojects\u001B[0m\u001B[0;34m\u001B[0m\u001B[0;34m\u001B[0m\u001B[0m\n\u001B[0m",
      "\u001B[0;31mAttributeError\u001B[0m: 'Profile' object has no attribute 'projects'"
     ]
    }
   ],
   "source": [
    "fig.get_profile().projects"
   ],
   "metadata": {
    "collapsed": false,
    "pycharm": {
     "name": "#%%\n"
    }
   }
  },
  {
   "cell_type": "code",
   "execution_count": 3,
   "outputs": [
    {
     "name": "stdout",
     "output_type": "stream",
     "text": [
      "Loaded deep_fake project!\n"
     ]
    }
   ],
   "source": [
    "fig.initialize()"
   ],
   "metadata": {
    "collapsed": false,
    "pycharm": {
     "name": "#%%\n"
    }
   }
  },
  {
   "cell_type": "code",
   "execution_count": 3,
   "outputs": [
    {
     "data": {
      "text/plain": "Project(novo_fake)"
     },
     "execution_count": 3,
     "metadata": {},
     "output_type": "execute_result"
    }
   ],
   "source": [
    "fig.get_current_project()#.xray('component')"
   ],
   "metadata": {
    "collapsed": false,
    "pycharm": {
     "name": "#%%\n"
    }
   }
  },
  {
   "cell_type": "code",
   "execution_count": 4,
   "outputs": [
    {
     "name": "stdout",
     "output_type": "stream",
     "text": [
      "Loaded deep_fake project!\n"
     ]
    }
   ],
   "source": [
    "fig.get_current_project().activate()"
   ],
   "metadata": {
    "collapsed": false,
    "pycharm": {
     "name": "#%%\n"
    }
   }
  },
  {
   "cell_type": "code",
   "execution_count": 5,
   "outputs": [],
   "source": [
    "@fig.component('test', description='somthign')\n",
    "class TestCmp(fig.Configurable):\n",
    "    pass"
   ],
   "metadata": {
    "collapsed": false,
    "pycharm": {
     "name": "#%%\n"
    }
   }
  },
  {
   "cell_type": "code",
   "execution_count": 6,
   "outputs": [
    {
     "name": "stdout",
     "output_type": "stream",
     "text": [
      "\u001B[92mmnist\u001B[0m: src.data_loading.\u001B[94mMNIST\u001B[0m (src.data_loading.Toy_Dataset)\n",
      "\u001B[92mcifar\u001B[0m: src.data_loading.\u001B[94mCIFAR\u001B[0m (src.data_loading.Toy_Dataset)\n",
      "\u001B[92mstdout\u001B[0m: src.util.\u001B[94m_get_stdout\u001B[0m() (auto)\n",
      "\u001B[92mfile\u001B[0m: src.util.\u001B[94m_get_file\u001B[0m(path) (auto)\n",
      "\u001B[92mnn\u001B[0m: src.deep_models.\u001B[94mNeuralNetwork\u001B[0m (omnifig.configurable.Configurable, src.deep_models.Module)\n",
      "\u001B[92mnet\u001B[0m: src.deep_models.\u001B[94mDeepModel\u001B[0m (omnifig.configurable.Configurable, src.deep_models.Module)\n",
      "\u001B[92msgd-optim\u001B[0m: src.deep_models.\u001B[94mOptim\u001B[0m (omnifig.configurable.Configurable)\n",
      "\u001B[92mtest\u001B[0m: __main__.\u001B[94mTestCmp\u001B[0m (omnifig.configurable.Configurable)\n",
      "\tsomthign\n"
     ]
    }
   ],
   "source": [
    "fig.get_current_project().xray('component')"
   ],
   "metadata": {
    "collapsed": false,
    "pycharm": {
     "name": "#%%\n"
    }
   }
  },
  {
   "cell_type": "code",
   "execution_count": 7,
   "outputs": [],
   "source": [
    "class A:\n",
    "    @property\n",
    "    def x(self):\n",
    "        return 1\n",
    "\n",
    "class B(A):\n",
    "    x = 10"
   ],
   "metadata": {
    "collapsed": false,
    "pycharm": {
     "name": "#%%\n"
    }
   }
  },
  {
   "cell_type": "code",
   "execution_count": 10,
   "outputs": [
    {
     "data": {
      "text/plain": "<property at 0x7fc514ca3630>"
     },
     "execution_count": 10,
     "metadata": {},
     "output_type": "execute_result"
    }
   ],
   "source": [
    "A.x"
   ],
   "metadata": {
    "collapsed": false,
    "pycharm": {
     "name": "#%%\n"
    }
   }
  },
  {
   "cell_type": "code",
   "execution_count": 7,
   "outputs": [],
   "source": [],
   "metadata": {
    "collapsed": false,
    "pycharm": {
     "name": "#%%\n"
    }
   }
  },
  {
   "cell_type": "code",
   "execution_count": null,
   "outputs": [],
   "source": [],
   "metadata": {
    "collapsed": false,
    "pycharm": {
     "name": "#%%\n"
    }
   }
  }
 ],
 "metadata": {
  "kernelspec": {
   "display_name": "Python 3",
   "language": "python",
   "name": "python3"
  },
  "language_info": {
   "codemirror_mode": {
    "name": "ipython",
    "version": 2
   },
   "file_extension": ".py",
   "mimetype": "text/x-python",
   "name": "python",
   "nbconvert_exporter": "python",
   "pygments_lexer": "ipython2",
   "version": "2.7.6"
  }
 },
 "nbformat": 4,
 "nbformat_minor": 0
}